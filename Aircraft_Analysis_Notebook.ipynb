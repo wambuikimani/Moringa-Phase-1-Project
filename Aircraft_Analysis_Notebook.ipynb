{
 "cells": [
  {
   "cell_type": "markdown",
   "id": "b6b49950",
   "metadata": {},
   "source": [
    "# AIRCRAFT PURCHASE ANALYSIS #"
   ]
  },
  {
   "cell_type": "markdown",
   "id": "dcabc363",
   "metadata": {},
   "source": [
    "### Project Overview ###\n",
    "We are analyzing data about aviation accidents to help the business make safer investments in aircraft. The goal is to understand which aircraft models have a lower risk profile based on past accident data."
   ]
  },
  {
   "cell_type": "markdown",
   "id": "dfe96438",
   "metadata": {},
   "source": [
    "### Business Problem ###\n",
    "Our company is expanding into the aviation industry. Before purchasing aircraft, we need to understand the risks associated with different models. By analyzing historical accident data, we can make recommendations for safer investments in commercial and private aircraft."
   ]
  },
  {
   "cell_type": "code",
   "execution_count": 1,
   "id": "a593ebdd",
   "metadata": {},
   "outputs": [],
   "source": [
    "# Importing necessary libraries\n",
    "# pandas is used for handling and analyzing data\n",
    "import pandas as pd\n",
    "# numpy is used for numerical operations\n",
    "import numpy as np\n",
    "# matplotlib is used to create charts and visualizations\n",
    "import matplotlib.pyplot as plt"
   ]
  },
  {
   "cell_type": "markdown",
   "id": "dd136584",
   "metadata": {},
   "source": [
    "The dataset contains historical accident data from 1962 to 2023, gathered by the National Transportation Safety Board (NTSB). We will use this data to assess risks and help the company identify the safest aircraft to purchase."
   ]
  },
  {
   "cell_type": "code",
   "execution_count": 2,
   "id": "0a31f100",
   "metadata": {},
   "outputs": [],
   "source": [
    "#Import the data\n",
    "aviation_data = pd.read_csv(r\"AviationData.csv\", low_memory = False, encoding='latin1')\n",
    "states_data = pd.read_csv(r\"USState_Codes.csv\", encoding = 'latin1')\n"
   ]
  },
  {
   "cell_type": "markdown",
   "id": "31ca2c07",
   "metadata": {},
   "source": [
    "### Data Overview\n",
    "\n",
    "The aviation dataset contains **31 columns** and nearly **90,000 entries**. It covers a wide range of categories for each incident, including:\n",
    "- **Investigation type**, \n",
    "- **Make and model** of the aircraft,\n",
    "- **Weather** and **location** data,\n",
    "- **Flight details**,\n",
    "- **Damage to the plane** and **passenger injuries**,\n",
    "- **Regulation** data, and more.\n",
    "\n",
    "Although the dataset has a lot of missing data, we will clean and prepare it to ensure accurate conclusions.\n",
    "\n",
    "Additionally, the **US State Codes** dataset has two columns: \n",
    "- **State names** and their corresponding **codes**. \n",
    "- There is no missing data, and all entries are of object data type.\n",
    "\n",
    "Both datasets will be prepared and cleaned, and visualizations will be created to help guide the **final recommendations**."
   ]
  },
  {
   "cell_type": "markdown",
   "id": "2a83a566",
   "metadata": {},
   "source": [
    "# DATA CLEANING #\n",
    "### DATA PREPARATION ###"
   ]
  },
  {
   "cell_type": "markdown",
   "id": "13863adb",
   "metadata": {},
   "source": [
    "In this section we will prepare the data by making decisions on which data to use and which data to remove or replace"
   ]
  },
  {
   "cell_type": "code",
   "execution_count": 3,
   "id": "c9f0786e",
   "metadata": {},
   "outputs": [
    {
     "data": {
      "text/html": [
       "<div>\n",
       "<style scoped>\n",
       "    .dataframe tbody tr th:only-of-type {\n",
       "        vertical-align: middle;\n",
       "    }\n",
       "\n",
       "    .dataframe tbody tr th {\n",
       "        vertical-align: top;\n",
       "    }\n",
       "\n",
       "    .dataframe thead th {\n",
       "        text-align: right;\n",
       "    }\n",
       "</style>\n",
       "<table border=\"1\" class=\"dataframe\">\n",
       "  <thead>\n",
       "    <tr style=\"text-align: right;\">\n",
       "      <th></th>\n",
       "      <th>Event.Id</th>\n",
       "      <th>Investigation.Type</th>\n",
       "      <th>Event.Date</th>\n",
       "      <th>Location</th>\n",
       "      <th>Country</th>\n",
       "      <th>Injury.Severity</th>\n",
       "      <th>Aircraft.damage</th>\n",
       "      <th>Aircraft.Category</th>\n",
       "      <th>Make</th>\n",
       "      <th>Model</th>\n",
       "      <th>Number.of.Engines</th>\n",
       "      <th>Air.carrier</th>\n",
       "      <th>Total.Fatal.Injuries</th>\n",
       "      <th>Total.Serious.Injuries</th>\n",
       "      <th>Total.Minor.Injuries</th>\n",
       "      <th>Total.Uninjured</th>\n",
       "      <th>Weather.Condition</th>\n",
       "      <th>Report.Status</th>\n",
       "    </tr>\n",
       "  </thead>\n",
       "  <tbody>\n",
       "    <tr>\n",
       "      <th>0</th>\n",
       "      <td>20001218X45444</td>\n",
       "      <td>Accident</td>\n",
       "      <td>1948-10-24</td>\n",
       "      <td>MOOSE CREEK, ID</td>\n",
       "      <td>United States</td>\n",
       "      <td>Fatal(2)</td>\n",
       "      <td>Destroyed</td>\n",
       "      <td>NaN</td>\n",
       "      <td>Stinson</td>\n",
       "      <td>108-3</td>\n",
       "      <td>1.0</td>\n",
       "      <td>NaN</td>\n",
       "      <td>2.0</td>\n",
       "      <td>0.0</td>\n",
       "      <td>0.0</td>\n",
       "      <td>0.0</td>\n",
       "      <td>UNK</td>\n",
       "      <td>Probable Cause</td>\n",
       "    </tr>\n",
       "    <tr>\n",
       "      <th>1</th>\n",
       "      <td>20001218X45447</td>\n",
       "      <td>Accident</td>\n",
       "      <td>1962-07-19</td>\n",
       "      <td>BRIDGEPORT, CA</td>\n",
       "      <td>United States</td>\n",
       "      <td>Fatal(4)</td>\n",
       "      <td>Destroyed</td>\n",
       "      <td>NaN</td>\n",
       "      <td>Piper</td>\n",
       "      <td>PA24-180</td>\n",
       "      <td>1.0</td>\n",
       "      <td>NaN</td>\n",
       "      <td>4.0</td>\n",
       "      <td>0.0</td>\n",
       "      <td>0.0</td>\n",
       "      <td>0.0</td>\n",
       "      <td>UNK</td>\n",
       "      <td>Probable Cause</td>\n",
       "    </tr>\n",
       "    <tr>\n",
       "      <th>2</th>\n",
       "      <td>20061025X01555</td>\n",
       "      <td>Accident</td>\n",
       "      <td>1974-08-30</td>\n",
       "      <td>Saltville, VA</td>\n",
       "      <td>United States</td>\n",
       "      <td>Fatal(3)</td>\n",
       "      <td>Destroyed</td>\n",
       "      <td>NaN</td>\n",
       "      <td>Cessna</td>\n",
       "      <td>172M</td>\n",
       "      <td>1.0</td>\n",
       "      <td>NaN</td>\n",
       "      <td>3.0</td>\n",
       "      <td>NaN</td>\n",
       "      <td>NaN</td>\n",
       "      <td>NaN</td>\n",
       "      <td>IMC</td>\n",
       "      <td>Probable Cause</td>\n",
       "    </tr>\n",
       "    <tr>\n",
       "      <th>3</th>\n",
       "      <td>20001218X45448</td>\n",
       "      <td>Accident</td>\n",
       "      <td>1977-06-19</td>\n",
       "      <td>EUREKA, CA</td>\n",
       "      <td>United States</td>\n",
       "      <td>Fatal(2)</td>\n",
       "      <td>Destroyed</td>\n",
       "      <td>NaN</td>\n",
       "      <td>Rockwell</td>\n",
       "      <td>112</td>\n",
       "      <td>1.0</td>\n",
       "      <td>NaN</td>\n",
       "      <td>2.0</td>\n",
       "      <td>0.0</td>\n",
       "      <td>0.0</td>\n",
       "      <td>0.0</td>\n",
       "      <td>IMC</td>\n",
       "      <td>Probable Cause</td>\n",
       "    </tr>\n",
       "    <tr>\n",
       "      <th>4</th>\n",
       "      <td>20041105X01764</td>\n",
       "      <td>Accident</td>\n",
       "      <td>1979-08-02</td>\n",
       "      <td>Canton, OH</td>\n",
       "      <td>United States</td>\n",
       "      <td>Fatal(1)</td>\n",
       "      <td>Destroyed</td>\n",
       "      <td>NaN</td>\n",
       "      <td>Cessna</td>\n",
       "      <td>501</td>\n",
       "      <td>NaN</td>\n",
       "      <td>NaN</td>\n",
       "      <td>1.0</td>\n",
       "      <td>2.0</td>\n",
       "      <td>NaN</td>\n",
       "      <td>0.0</td>\n",
       "      <td>VMC</td>\n",
       "      <td>Probable Cause</td>\n",
       "    </tr>\n",
       "    <tr>\n",
       "      <th>...</th>\n",
       "      <td>...</td>\n",
       "      <td>...</td>\n",
       "      <td>...</td>\n",
       "      <td>...</td>\n",
       "      <td>...</td>\n",
       "      <td>...</td>\n",
       "      <td>...</td>\n",
       "      <td>...</td>\n",
       "      <td>...</td>\n",
       "      <td>...</td>\n",
       "      <td>...</td>\n",
       "      <td>...</td>\n",
       "      <td>...</td>\n",
       "      <td>...</td>\n",
       "      <td>...</td>\n",
       "      <td>...</td>\n",
       "      <td>...</td>\n",
       "      <td>...</td>\n",
       "    </tr>\n",
       "    <tr>\n",
       "      <th>88884</th>\n",
       "      <td>20221227106491</td>\n",
       "      <td>Accident</td>\n",
       "      <td>2022-12-26</td>\n",
       "      <td>Annapolis, MD</td>\n",
       "      <td>United States</td>\n",
       "      <td>Minor</td>\n",
       "      <td>NaN</td>\n",
       "      <td>NaN</td>\n",
       "      <td>PIPER</td>\n",
       "      <td>PA-28-151</td>\n",
       "      <td>NaN</td>\n",
       "      <td>NaN</td>\n",
       "      <td>0.0</td>\n",
       "      <td>1.0</td>\n",
       "      <td>0.0</td>\n",
       "      <td>0.0</td>\n",
       "      <td>NaN</td>\n",
       "      <td>NaN</td>\n",
       "    </tr>\n",
       "    <tr>\n",
       "      <th>88885</th>\n",
       "      <td>20221227106494</td>\n",
       "      <td>Accident</td>\n",
       "      <td>2022-12-26</td>\n",
       "      <td>Hampton, NH</td>\n",
       "      <td>United States</td>\n",
       "      <td>NaN</td>\n",
       "      <td>NaN</td>\n",
       "      <td>NaN</td>\n",
       "      <td>BELLANCA</td>\n",
       "      <td>7ECA</td>\n",
       "      <td>NaN</td>\n",
       "      <td>NaN</td>\n",
       "      <td>0.0</td>\n",
       "      <td>0.0</td>\n",
       "      <td>0.0</td>\n",
       "      <td>0.0</td>\n",
       "      <td>NaN</td>\n",
       "      <td>NaN</td>\n",
       "    </tr>\n",
       "    <tr>\n",
       "      <th>88886</th>\n",
       "      <td>20221227106497</td>\n",
       "      <td>Accident</td>\n",
       "      <td>2022-12-26</td>\n",
       "      <td>Payson, AZ</td>\n",
       "      <td>United States</td>\n",
       "      <td>Non-Fatal</td>\n",
       "      <td>Substantial</td>\n",
       "      <td>Airplane</td>\n",
       "      <td>AMERICAN CHAMPION AIRCRAFT</td>\n",
       "      <td>8GCBC</td>\n",
       "      <td>1.0</td>\n",
       "      <td>NaN</td>\n",
       "      <td>0.0</td>\n",
       "      <td>0.0</td>\n",
       "      <td>0.0</td>\n",
       "      <td>1.0</td>\n",
       "      <td>VMC</td>\n",
       "      <td>NaN</td>\n",
       "    </tr>\n",
       "    <tr>\n",
       "      <th>88887</th>\n",
       "      <td>20221227106498</td>\n",
       "      <td>Accident</td>\n",
       "      <td>2022-12-26</td>\n",
       "      <td>Morgan, UT</td>\n",
       "      <td>United States</td>\n",
       "      <td>NaN</td>\n",
       "      <td>NaN</td>\n",
       "      <td>NaN</td>\n",
       "      <td>CESSNA</td>\n",
       "      <td>210N</td>\n",
       "      <td>NaN</td>\n",
       "      <td>MC CESSNA 210N LLC</td>\n",
       "      <td>0.0</td>\n",
       "      <td>0.0</td>\n",
       "      <td>0.0</td>\n",
       "      <td>0.0</td>\n",
       "      <td>NaN</td>\n",
       "      <td>NaN</td>\n",
       "    </tr>\n",
       "    <tr>\n",
       "      <th>88888</th>\n",
       "      <td>20221230106513</td>\n",
       "      <td>Accident</td>\n",
       "      <td>2022-12-29</td>\n",
       "      <td>Athens, GA</td>\n",
       "      <td>United States</td>\n",
       "      <td>Minor</td>\n",
       "      <td>NaN</td>\n",
       "      <td>NaN</td>\n",
       "      <td>PIPER</td>\n",
       "      <td>PA-24-260</td>\n",
       "      <td>NaN</td>\n",
       "      <td>NaN</td>\n",
       "      <td>0.0</td>\n",
       "      <td>1.0</td>\n",
       "      <td>0.0</td>\n",
       "      <td>1.0</td>\n",
       "      <td>NaN</td>\n",
       "      <td>NaN</td>\n",
       "    </tr>\n",
       "  </tbody>\n",
       "</table>\n",
       "<p>88889 rows × 18 columns</p>\n",
       "</div>"
      ],
      "text/plain": [
       "             Event.Id Investigation.Type  Event.Date         Location  \\\n",
       "0      20001218X45444           Accident  1948-10-24  MOOSE CREEK, ID   \n",
       "1      20001218X45447           Accident  1962-07-19   BRIDGEPORT, CA   \n",
       "2      20061025X01555           Accident  1974-08-30    Saltville, VA   \n",
       "3      20001218X45448           Accident  1977-06-19       EUREKA, CA   \n",
       "4      20041105X01764           Accident  1979-08-02       Canton, OH   \n",
       "...               ...                ...         ...              ...   \n",
       "88884  20221227106491           Accident  2022-12-26    Annapolis, MD   \n",
       "88885  20221227106494           Accident  2022-12-26      Hampton, NH   \n",
       "88886  20221227106497           Accident  2022-12-26       Payson, AZ   \n",
       "88887  20221227106498           Accident  2022-12-26       Morgan, UT   \n",
       "88888  20221230106513           Accident  2022-12-29       Athens, GA   \n",
       "\n",
       "             Country Injury.Severity Aircraft.damage Aircraft.Category  \\\n",
       "0      United States        Fatal(2)       Destroyed               NaN   \n",
       "1      United States        Fatal(4)       Destroyed               NaN   \n",
       "2      United States        Fatal(3)       Destroyed               NaN   \n",
       "3      United States        Fatal(2)       Destroyed               NaN   \n",
       "4      United States        Fatal(1)       Destroyed               NaN   \n",
       "...              ...             ...             ...               ...   \n",
       "88884  United States           Minor             NaN               NaN   \n",
       "88885  United States             NaN             NaN               NaN   \n",
       "88886  United States       Non-Fatal     Substantial          Airplane   \n",
       "88887  United States             NaN             NaN               NaN   \n",
       "88888  United States           Minor             NaN               NaN   \n",
       "\n",
       "                             Make      Model  Number.of.Engines  \\\n",
       "0                         Stinson      108-3                1.0   \n",
       "1                           Piper   PA24-180                1.0   \n",
       "2                          Cessna       172M                1.0   \n",
       "3                        Rockwell        112                1.0   \n",
       "4                          Cessna        501                NaN   \n",
       "...                           ...        ...                ...   \n",
       "88884                       PIPER  PA-28-151                NaN   \n",
       "88885                    BELLANCA       7ECA                NaN   \n",
       "88886  AMERICAN CHAMPION AIRCRAFT      8GCBC                1.0   \n",
       "88887                      CESSNA       210N                NaN   \n",
       "88888                       PIPER  PA-24-260                NaN   \n",
       "\n",
       "              Air.carrier  Total.Fatal.Injuries  Total.Serious.Injuries  \\\n",
       "0                     NaN                   2.0                     0.0   \n",
       "1                     NaN                   4.0                     0.0   \n",
       "2                     NaN                   3.0                     NaN   \n",
       "3                     NaN                   2.0                     0.0   \n",
       "4                     NaN                   1.0                     2.0   \n",
       "...                   ...                   ...                     ...   \n",
       "88884                 NaN                   0.0                     1.0   \n",
       "88885                 NaN                   0.0                     0.0   \n",
       "88886                 NaN                   0.0                     0.0   \n",
       "88887  MC CESSNA 210N LLC                   0.0                     0.0   \n",
       "88888                 NaN                   0.0                     1.0   \n",
       "\n",
       "       Total.Minor.Injuries  Total.Uninjured Weather.Condition   Report.Status  \n",
       "0                       0.0              0.0               UNK  Probable Cause  \n",
       "1                       0.0              0.0               UNK  Probable Cause  \n",
       "2                       NaN              NaN               IMC  Probable Cause  \n",
       "3                       0.0              0.0               IMC  Probable Cause  \n",
       "4                       NaN              0.0               VMC  Probable Cause  \n",
       "...                     ...              ...               ...             ...  \n",
       "88884                   0.0              0.0               NaN             NaN  \n",
       "88885                   0.0              0.0               NaN             NaN  \n",
       "88886                   0.0              1.0               VMC             NaN  \n",
       "88887                   0.0              0.0               NaN             NaN  \n",
       "88888                   0.0              1.0               NaN             NaN  \n",
       "\n",
       "[88889 rows x 18 columns]"
      ]
     },
     "execution_count": 3,
     "metadata": {},
     "output_type": "execute_result"
    }
   ],
   "source": [
    "#REMOVING ALL THE UNCESSARY COLUMNS\n",
    "aviation_data = aviation_data.drop(['FAR.Description','Schedule', 'Purpose.of.flight', 'Registration.Number', \n",
    "                                         'Publication.Date', 'Airport.Code', 'Airport.Name', 'Amateur.Built', 'Latitude', 'Longitude', 'Accident.Number', 'Engine.Type', 'Broad.phase.of.flight'], axis = 1)\n",
    "\n",
    "aviation_data"
   ]
  },
  {
   "cell_type": "code",
   "execution_count": 4,
   "id": "eb2574a4",
   "metadata": {},
   "outputs": [
    {
     "name": "stdout",
     "output_type": "stream",
     "text": [
      "<class 'pandas.core.frame.DataFrame'>\n",
      "RangeIndex: 88889 entries, 0 to 88888\n",
      "Data columns (total 18 columns):\n",
      " #   Column                  Non-Null Count  Dtype  \n",
      "---  ------                  --------------  -----  \n",
      " 0   Event.Id                88889 non-null  object \n",
      " 1   Investigation.Type      88889 non-null  object \n",
      " 2   Event.Date              88889 non-null  object \n",
      " 3   Location                88837 non-null  object \n",
      " 4   Country                 88663 non-null  object \n",
      " 5   Injury.Severity         87889 non-null  object \n",
      " 6   Aircraft.damage         85695 non-null  object \n",
      " 7   Aircraft.Category       32287 non-null  object \n",
      " 8   Make                    88826 non-null  object \n",
      " 9   Model                   88797 non-null  object \n",
      " 10  Number.of.Engines       82805 non-null  float64\n",
      " 11  Air.carrier             16648 non-null  object \n",
      " 12  Total.Fatal.Injuries    77488 non-null  float64\n",
      " 13  Total.Serious.Injuries  76379 non-null  float64\n",
      " 14  Total.Minor.Injuries    76956 non-null  float64\n",
      " 15  Total.Uninjured         82977 non-null  float64\n",
      " 16  Weather.Condition       84397 non-null  object \n",
      " 17  Report.Status           82505 non-null  object \n",
      "dtypes: float64(5), object(13)\n",
      "memory usage: 12.2+ MB\n"
     ]
    }
   ],
   "source": [
    "aviation_data.info()"
   ]
  },
  {
   "cell_type": "code",
   "execution_count": 5,
   "id": "7b40352f",
   "metadata": {},
   "outputs": [
    {
     "data": {
      "text/plain": [
       "Event.Id                      0\n",
       "Investigation.Type            0\n",
       "Event.Date                    0\n",
       "Location                     52\n",
       "Country                     226\n",
       "Injury.Severity            1000\n",
       "Aircraft.damage            3194\n",
       "Aircraft.Category         56602\n",
       "Make                         63\n",
       "Model                        92\n",
       "Number.of.Engines          6084\n",
       "Air.carrier               72241\n",
       "Total.Fatal.Injuries      11401\n",
       "Total.Serious.Injuries    12510\n",
       "Total.Minor.Injuries      11933\n",
       "Total.Uninjured            5912\n",
       "Weather.Condition          4492\n",
       "Report.Status              6384\n",
       "dtype: int64"
      ]
     },
     "execution_count": 5,
     "metadata": {},
     "output_type": "execute_result"
    }
   ],
   "source": [
    "# Display number of nulls in each column\n",
    "aviation_data.isna().sum()"
   ]
  },
  {
   "cell_type": "code",
   "execution_count": 6,
   "id": "3bee89bb",
   "metadata": {},
   "outputs": [
    {
     "data": {
      "text/plain": [
       "Country\n",
       "United States                       82248\n",
       "Brazil                                374\n",
       "Canada                                359\n",
       "Mexico                                358\n",
       "United Kingdom                        344\n",
       "                                    ...  \n",
       "Seychelles                              1\n",
       "Palau                                   1\n",
       "Libya                                   1\n",
       "Saint Vincent and the Grenadines        1\n",
       "Turks and Caicos Islands                1\n",
       "Name: count, Length: 219, dtype: int64"
      ]
     },
     "execution_count": 6,
     "metadata": {},
     "output_type": "execute_result"
    }
   ],
   "source": [
    "# Country column values \n",
    "aviation_data['Country'].value_counts()"
   ]
  },
  {
   "cell_type": "code",
   "execution_count": 7,
   "id": "ab5c8c95",
   "metadata": {},
   "outputs": [
    {
     "data": {
      "text/html": [
       "<div>\n",
       "<style scoped>\n",
       "    .dataframe tbody tr th:only-of-type {\n",
       "        vertical-align: middle;\n",
       "    }\n",
       "\n",
       "    .dataframe tbody tr th {\n",
       "        vertical-align: top;\n",
       "    }\n",
       "\n",
       "    .dataframe thead th {\n",
       "        text-align: right;\n",
       "    }\n",
       "</style>\n",
       "<table border=\"1\" class=\"dataframe\">\n",
       "  <thead>\n",
       "    <tr style=\"text-align: right;\">\n",
       "      <th></th>\n",
       "      <th>Event.Id</th>\n",
       "      <th>Investigation.Type</th>\n",
       "      <th>Event.Date</th>\n",
       "      <th>Location</th>\n",
       "      <th>Country</th>\n",
       "      <th>Injury.Severity</th>\n",
       "      <th>Aircraft.damage</th>\n",
       "      <th>Aircraft.Category</th>\n",
       "      <th>Make</th>\n",
       "      <th>Model</th>\n",
       "      <th>Number.of.Engines</th>\n",
       "      <th>Air.carrier</th>\n",
       "      <th>Total.Fatal.Injuries</th>\n",
       "      <th>Total.Serious.Injuries</th>\n",
       "      <th>Total.Minor.Injuries</th>\n",
       "      <th>Total.Uninjured</th>\n",
       "      <th>Weather.Condition</th>\n",
       "      <th>Report.Status</th>\n",
       "    </tr>\n",
       "  </thead>\n",
       "  <tbody>\n",
       "    <tr>\n",
       "      <th>0</th>\n",
       "      <td>20001218X45444</td>\n",
       "      <td>Accident</td>\n",
       "      <td>1948-10-24</td>\n",
       "      <td>MOOSE CREEK, ID</td>\n",
       "      <td>United States</td>\n",
       "      <td>Fatal(2)</td>\n",
       "      <td>Destroyed</td>\n",
       "      <td>NaN</td>\n",
       "      <td>Stinson</td>\n",
       "      <td>108-3</td>\n",
       "      <td>1.0</td>\n",
       "      <td>NaN</td>\n",
       "      <td>2.0</td>\n",
       "      <td>0.0</td>\n",
       "      <td>0.0</td>\n",
       "      <td>0.0</td>\n",
       "      <td>UNK</td>\n",
       "      <td>Probable Cause</td>\n",
       "    </tr>\n",
       "    <tr>\n",
       "      <th>1</th>\n",
       "      <td>20001218X45447</td>\n",
       "      <td>Accident</td>\n",
       "      <td>1962-07-19</td>\n",
       "      <td>BRIDGEPORT, CA</td>\n",
       "      <td>United States</td>\n",
       "      <td>Fatal(4)</td>\n",
       "      <td>Destroyed</td>\n",
       "      <td>NaN</td>\n",
       "      <td>Piper</td>\n",
       "      <td>PA24-180</td>\n",
       "      <td>1.0</td>\n",
       "      <td>NaN</td>\n",
       "      <td>4.0</td>\n",
       "      <td>0.0</td>\n",
       "      <td>0.0</td>\n",
       "      <td>0.0</td>\n",
       "      <td>UNK</td>\n",
       "      <td>Probable Cause</td>\n",
       "    </tr>\n",
       "    <tr>\n",
       "      <th>2</th>\n",
       "      <td>20061025X01555</td>\n",
       "      <td>Accident</td>\n",
       "      <td>1974-08-30</td>\n",
       "      <td>Saltville, VA</td>\n",
       "      <td>United States</td>\n",
       "      <td>Fatal(3)</td>\n",
       "      <td>Destroyed</td>\n",
       "      <td>NaN</td>\n",
       "      <td>Cessna</td>\n",
       "      <td>172M</td>\n",
       "      <td>1.0</td>\n",
       "      <td>NaN</td>\n",
       "      <td>3.0</td>\n",
       "      <td>NaN</td>\n",
       "      <td>NaN</td>\n",
       "      <td>NaN</td>\n",
       "      <td>IMC</td>\n",
       "      <td>Probable Cause</td>\n",
       "    </tr>\n",
       "    <tr>\n",
       "      <th>3</th>\n",
       "      <td>20001218X45448</td>\n",
       "      <td>Accident</td>\n",
       "      <td>1977-06-19</td>\n",
       "      <td>EUREKA, CA</td>\n",
       "      <td>United States</td>\n",
       "      <td>Fatal(2)</td>\n",
       "      <td>Destroyed</td>\n",
       "      <td>NaN</td>\n",
       "      <td>Rockwell</td>\n",
       "      <td>112</td>\n",
       "      <td>1.0</td>\n",
       "      <td>NaN</td>\n",
       "      <td>2.0</td>\n",
       "      <td>0.0</td>\n",
       "      <td>0.0</td>\n",
       "      <td>0.0</td>\n",
       "      <td>IMC</td>\n",
       "      <td>Probable Cause</td>\n",
       "    </tr>\n",
       "    <tr>\n",
       "      <th>4</th>\n",
       "      <td>20041105X01764</td>\n",
       "      <td>Accident</td>\n",
       "      <td>1979-08-02</td>\n",
       "      <td>Canton, OH</td>\n",
       "      <td>United States</td>\n",
       "      <td>Fatal(1)</td>\n",
       "      <td>Destroyed</td>\n",
       "      <td>NaN</td>\n",
       "      <td>Cessna</td>\n",
       "      <td>501</td>\n",
       "      <td>NaN</td>\n",
       "      <td>NaN</td>\n",
       "      <td>1.0</td>\n",
       "      <td>2.0</td>\n",
       "      <td>NaN</td>\n",
       "      <td>0.0</td>\n",
       "      <td>VMC</td>\n",
       "      <td>Probable Cause</td>\n",
       "    </tr>\n",
       "    <tr>\n",
       "      <th>...</th>\n",
       "      <td>...</td>\n",
       "      <td>...</td>\n",
       "      <td>...</td>\n",
       "      <td>...</td>\n",
       "      <td>...</td>\n",
       "      <td>...</td>\n",
       "      <td>...</td>\n",
       "      <td>...</td>\n",
       "      <td>...</td>\n",
       "      <td>...</td>\n",
       "      <td>...</td>\n",
       "      <td>...</td>\n",
       "      <td>...</td>\n",
       "      <td>...</td>\n",
       "      <td>...</td>\n",
       "      <td>...</td>\n",
       "      <td>...</td>\n",
       "      <td>...</td>\n",
       "    </tr>\n",
       "    <tr>\n",
       "      <th>88884</th>\n",
       "      <td>20221227106491</td>\n",
       "      <td>Accident</td>\n",
       "      <td>2022-12-26</td>\n",
       "      <td>Annapolis, MD</td>\n",
       "      <td>United States</td>\n",
       "      <td>Minor</td>\n",
       "      <td>NaN</td>\n",
       "      <td>NaN</td>\n",
       "      <td>PIPER</td>\n",
       "      <td>PA-28-151</td>\n",
       "      <td>NaN</td>\n",
       "      <td>NaN</td>\n",
       "      <td>0.0</td>\n",
       "      <td>1.0</td>\n",
       "      <td>0.0</td>\n",
       "      <td>0.0</td>\n",
       "      <td>NaN</td>\n",
       "      <td>NaN</td>\n",
       "    </tr>\n",
       "    <tr>\n",
       "      <th>88885</th>\n",
       "      <td>20221227106494</td>\n",
       "      <td>Accident</td>\n",
       "      <td>2022-12-26</td>\n",
       "      <td>Hampton, NH</td>\n",
       "      <td>United States</td>\n",
       "      <td>NaN</td>\n",
       "      <td>NaN</td>\n",
       "      <td>NaN</td>\n",
       "      <td>BELLANCA</td>\n",
       "      <td>7ECA</td>\n",
       "      <td>NaN</td>\n",
       "      <td>NaN</td>\n",
       "      <td>0.0</td>\n",
       "      <td>0.0</td>\n",
       "      <td>0.0</td>\n",
       "      <td>0.0</td>\n",
       "      <td>NaN</td>\n",
       "      <td>NaN</td>\n",
       "    </tr>\n",
       "    <tr>\n",
       "      <th>88886</th>\n",
       "      <td>20221227106497</td>\n",
       "      <td>Accident</td>\n",
       "      <td>2022-12-26</td>\n",
       "      <td>Payson, AZ</td>\n",
       "      <td>United States</td>\n",
       "      <td>Non-Fatal</td>\n",
       "      <td>Substantial</td>\n",
       "      <td>Airplane</td>\n",
       "      <td>AMERICAN CHAMPION AIRCRAFT</td>\n",
       "      <td>8GCBC</td>\n",
       "      <td>1.0</td>\n",
       "      <td>NaN</td>\n",
       "      <td>0.0</td>\n",
       "      <td>0.0</td>\n",
       "      <td>0.0</td>\n",
       "      <td>1.0</td>\n",
       "      <td>VMC</td>\n",
       "      <td>NaN</td>\n",
       "    </tr>\n",
       "    <tr>\n",
       "      <th>88887</th>\n",
       "      <td>20221227106498</td>\n",
       "      <td>Accident</td>\n",
       "      <td>2022-12-26</td>\n",
       "      <td>Morgan, UT</td>\n",
       "      <td>United States</td>\n",
       "      <td>NaN</td>\n",
       "      <td>NaN</td>\n",
       "      <td>NaN</td>\n",
       "      <td>CESSNA</td>\n",
       "      <td>210N</td>\n",
       "      <td>NaN</td>\n",
       "      <td>MC CESSNA 210N LLC</td>\n",
       "      <td>0.0</td>\n",
       "      <td>0.0</td>\n",
       "      <td>0.0</td>\n",
       "      <td>0.0</td>\n",
       "      <td>NaN</td>\n",
       "      <td>NaN</td>\n",
       "    </tr>\n",
       "    <tr>\n",
       "      <th>88888</th>\n",
       "      <td>20221230106513</td>\n",
       "      <td>Accident</td>\n",
       "      <td>2022-12-29</td>\n",
       "      <td>Athens, GA</td>\n",
       "      <td>United States</td>\n",
       "      <td>Minor</td>\n",
       "      <td>NaN</td>\n",
       "      <td>NaN</td>\n",
       "      <td>PIPER</td>\n",
       "      <td>PA-24-260</td>\n",
       "      <td>NaN</td>\n",
       "      <td>NaN</td>\n",
       "      <td>0.0</td>\n",
       "      <td>1.0</td>\n",
       "      <td>0.0</td>\n",
       "      <td>1.0</td>\n",
       "      <td>NaN</td>\n",
       "      <td>NaN</td>\n",
       "    </tr>\n",
       "  </tbody>\n",
       "</table>\n",
       "<p>82248 rows × 18 columns</p>\n",
       "</div>"
      ],
      "text/plain": [
       "             Event.Id Investigation.Type  Event.Date         Location  \\\n",
       "0      20001218X45444           Accident  1948-10-24  MOOSE CREEK, ID   \n",
       "1      20001218X45447           Accident  1962-07-19   BRIDGEPORT, CA   \n",
       "2      20061025X01555           Accident  1974-08-30    Saltville, VA   \n",
       "3      20001218X45448           Accident  1977-06-19       EUREKA, CA   \n",
       "4      20041105X01764           Accident  1979-08-02       Canton, OH   \n",
       "...               ...                ...         ...              ...   \n",
       "88884  20221227106491           Accident  2022-12-26    Annapolis, MD   \n",
       "88885  20221227106494           Accident  2022-12-26      Hampton, NH   \n",
       "88886  20221227106497           Accident  2022-12-26       Payson, AZ   \n",
       "88887  20221227106498           Accident  2022-12-26       Morgan, UT   \n",
       "88888  20221230106513           Accident  2022-12-29       Athens, GA   \n",
       "\n",
       "             Country Injury.Severity Aircraft.damage Aircraft.Category  \\\n",
       "0      United States        Fatal(2)       Destroyed               NaN   \n",
       "1      United States        Fatal(4)       Destroyed               NaN   \n",
       "2      United States        Fatal(3)       Destroyed               NaN   \n",
       "3      United States        Fatal(2)       Destroyed               NaN   \n",
       "4      United States        Fatal(1)       Destroyed               NaN   \n",
       "...              ...             ...             ...               ...   \n",
       "88884  United States           Minor             NaN               NaN   \n",
       "88885  United States             NaN             NaN               NaN   \n",
       "88886  United States       Non-Fatal     Substantial          Airplane   \n",
       "88887  United States             NaN             NaN               NaN   \n",
       "88888  United States           Minor             NaN               NaN   \n",
       "\n",
       "                             Make      Model  Number.of.Engines  \\\n",
       "0                         Stinson      108-3                1.0   \n",
       "1                           Piper   PA24-180                1.0   \n",
       "2                          Cessna       172M                1.0   \n",
       "3                        Rockwell        112                1.0   \n",
       "4                          Cessna        501                NaN   \n",
       "...                           ...        ...                ...   \n",
       "88884                       PIPER  PA-28-151                NaN   \n",
       "88885                    BELLANCA       7ECA                NaN   \n",
       "88886  AMERICAN CHAMPION AIRCRAFT      8GCBC                1.0   \n",
       "88887                      CESSNA       210N                NaN   \n",
       "88888                       PIPER  PA-24-260                NaN   \n",
       "\n",
       "              Air.carrier  Total.Fatal.Injuries  Total.Serious.Injuries  \\\n",
       "0                     NaN                   2.0                     0.0   \n",
       "1                     NaN                   4.0                     0.0   \n",
       "2                     NaN                   3.0                     NaN   \n",
       "3                     NaN                   2.0                     0.0   \n",
       "4                     NaN                   1.0                     2.0   \n",
       "...                   ...                   ...                     ...   \n",
       "88884                 NaN                   0.0                     1.0   \n",
       "88885                 NaN                   0.0                     0.0   \n",
       "88886                 NaN                   0.0                     0.0   \n",
       "88887  MC CESSNA 210N LLC                   0.0                     0.0   \n",
       "88888                 NaN                   0.0                     1.0   \n",
       "\n",
       "       Total.Minor.Injuries  Total.Uninjured Weather.Condition   Report.Status  \n",
       "0                       0.0              0.0               UNK  Probable Cause  \n",
       "1                       0.0              0.0               UNK  Probable Cause  \n",
       "2                       NaN              NaN               IMC  Probable Cause  \n",
       "3                       0.0              0.0               IMC  Probable Cause  \n",
       "4                       NaN              0.0               VMC  Probable Cause  \n",
       "...                     ...              ...               ...             ...  \n",
       "88884                   0.0              0.0               NaN             NaN  \n",
       "88885                   0.0              0.0               NaN             NaN  \n",
       "88886                   0.0              1.0               VMC             NaN  \n",
       "88887                   0.0              0.0               NaN             NaN  \n",
       "88888                   0.0              1.0               NaN             NaN  \n",
       "\n",
       "[82248 rows x 18 columns]"
      ]
     },
     "execution_count": 7,
     "metadata": {},
     "output_type": "execute_result"
    }
   ],
   "source": [
    "#Only keeping USA country\n",
    "aviation_data = aviation_data[aviation_data['Country'] == 'United States']\n",
    "aviation_data"
   ]
  },
  {
   "cell_type": "code",
   "execution_count": 8,
   "id": "07ae787e",
   "metadata": {},
   "outputs": [
    {
     "data": {
      "text/plain": [
       "Country\n",
       "United States    82248\n",
       "Name: count, dtype: int64"
      ]
     },
     "execution_count": 8,
     "metadata": {},
     "output_type": "execute_result"
    }
   ],
   "source": [
    "aviation_data['Country'].value_counts()"
   ]
  },
  {
   "cell_type": "code",
   "execution_count": 9,
   "id": "32408136",
   "metadata": {},
   "outputs": [
    {
     "data": {
      "text/plain": [
       "Aircraft.Category\n",
       "Airplane             24229\n",
       "Helicopter            2723\n",
       "Glider                 503\n",
       "Balloon                229\n",
       "Gyrocraft              172\n",
       "Weight-Shift           161\n",
       "Powered Parachute       90\n",
       "Ultralight              25\n",
       "WSFT                     9\n",
       "Unknown                  4\n",
       "Blimp                    4\n",
       "Powered-Lift             3\n",
       "Rocket                   1\n",
       "ULTR                     1\n",
       "Name: count, dtype: int64"
      ]
     },
     "execution_count": 9,
     "metadata": {},
     "output_type": "execute_result"
    }
   ],
   "source": [
    "# Aircraft category values\n",
    "aviation_data['Aircraft.Category'].value_counts()"
   ]
  },
  {
   "cell_type": "code",
   "execution_count": 10,
   "id": "21787e50",
   "metadata": {},
   "outputs": [],
   "source": [
    "# Dropping aircrafts that arent airplanes because we only want airplanes\n",
    "aviation_data = aviation_data[aviation_data['Aircraft.Category'] == 'Airplane']"
   ]
  },
  {
   "cell_type": "code",
   "execution_count": 11,
   "id": "9ba5b631",
   "metadata": {},
   "outputs": [
    {
     "data": {
      "text/plain": [
       "Aircraft.Category\n",
       "Airplane    24229\n",
       "Name: count, dtype: int64"
      ]
     },
     "execution_count": 11,
     "metadata": {},
     "output_type": "execute_result"
    }
   ],
   "source": [
    "aviation_data['Aircraft.Category'].value_counts()"
   ]
  },
  {
   "cell_type": "code",
   "execution_count": 12,
   "id": "3e8fe900",
   "metadata": {},
   "outputs": [
    {
     "data": {
      "text/html": [
       "<div>\n",
       "<style scoped>\n",
       "    .dataframe tbody tr th:only-of-type {\n",
       "        vertical-align: middle;\n",
       "    }\n",
       "\n",
       "    .dataframe tbody tr th {\n",
       "        vertical-align: top;\n",
       "    }\n",
       "\n",
       "    .dataframe thead th {\n",
       "        text-align: right;\n",
       "    }\n",
       "</style>\n",
       "<table border=\"1\" class=\"dataframe\">\n",
       "  <thead>\n",
       "    <tr style=\"text-align: right;\">\n",
       "      <th></th>\n",
       "      <th>Event.Id</th>\n",
       "      <th>Investigation.Type</th>\n",
       "      <th>Event.Date</th>\n",
       "      <th>Location</th>\n",
       "      <th>Country</th>\n",
       "      <th>Injury.Severity</th>\n",
       "      <th>Aircraft.damage</th>\n",
       "      <th>Aircraft.Category</th>\n",
       "      <th>Make</th>\n",
       "      <th>Model</th>\n",
       "      <th>Number.of.Engines</th>\n",
       "      <th>Air.carrier</th>\n",
       "      <th>Total.Fatal.Injuries</th>\n",
       "      <th>Total.Serious.Injuries</th>\n",
       "      <th>Total.Minor.Injuries</th>\n",
       "      <th>Total.Uninjured</th>\n",
       "      <th>Weather.Condition</th>\n",
       "      <th>Report.Status</th>\n",
       "    </tr>\n",
       "  </thead>\n",
       "  <tbody>\n",
       "    <tr>\n",
       "      <th>5</th>\n",
       "      <td>20170710X52551</td>\n",
       "      <td>Accident</td>\n",
       "      <td>1979-09-17</td>\n",
       "      <td>BOSTON, MA</td>\n",
       "      <td>United States</td>\n",
       "      <td>Non-Fatal</td>\n",
       "      <td>Substantial</td>\n",
       "      <td>Airplane</td>\n",
       "      <td>Mcdonnell Douglas</td>\n",
       "      <td>DC9</td>\n",
       "      <td>2.0</td>\n",
       "      <td>Air Canada</td>\n",
       "      <td>NaN</td>\n",
       "      <td>NaN</td>\n",
       "      <td>1.0</td>\n",
       "      <td>44.0</td>\n",
       "      <td>VMC</td>\n",
       "      <td>Probable Cause</td>\n",
       "    </tr>\n",
       "    <tr>\n",
       "      <th>7</th>\n",
       "      <td>20020909X01562</td>\n",
       "      <td>Accident</td>\n",
       "      <td>1982-01-01</td>\n",
       "      <td>PULLMAN, WA</td>\n",
       "      <td>United States</td>\n",
       "      <td>Non-Fatal</td>\n",
       "      <td>Substantial</td>\n",
       "      <td>Airplane</td>\n",
       "      <td>Cessna</td>\n",
       "      <td>140</td>\n",
       "      <td>1.0</td>\n",
       "      <td>NaN</td>\n",
       "      <td>0.0</td>\n",
       "      <td>0.0</td>\n",
       "      <td>0.0</td>\n",
       "      <td>2.0</td>\n",
       "      <td>VMC</td>\n",
       "      <td>Probable Cause</td>\n",
       "    </tr>\n",
       "    <tr>\n",
       "      <th>8</th>\n",
       "      <td>20020909X01561</td>\n",
       "      <td>Accident</td>\n",
       "      <td>1982-01-01</td>\n",
       "      <td>EAST HANOVER, NJ</td>\n",
       "      <td>United States</td>\n",
       "      <td>Non-Fatal</td>\n",
       "      <td>Substantial</td>\n",
       "      <td>Airplane</td>\n",
       "      <td>Cessna</td>\n",
       "      <td>401B</td>\n",
       "      <td>2.0</td>\n",
       "      <td>NaN</td>\n",
       "      <td>0.0</td>\n",
       "      <td>0.0</td>\n",
       "      <td>0.0</td>\n",
       "      <td>2.0</td>\n",
       "      <td>IMC</td>\n",
       "      <td>Probable Cause</td>\n",
       "    </tr>\n",
       "    <tr>\n",
       "      <th>12</th>\n",
       "      <td>20020917X02148</td>\n",
       "      <td>Accident</td>\n",
       "      <td>1982-01-02</td>\n",
       "      <td>HOMER, LA</td>\n",
       "      <td>United States</td>\n",
       "      <td>Non-Fatal</td>\n",
       "      <td>Destroyed</td>\n",
       "      <td>Airplane</td>\n",
       "      <td>Bellanca</td>\n",
       "      <td>17-30A</td>\n",
       "      <td>1.0</td>\n",
       "      <td>NaN</td>\n",
       "      <td>0.0</td>\n",
       "      <td>0.0</td>\n",
       "      <td>1.0</td>\n",
       "      <td>0.0</td>\n",
       "      <td>IMC</td>\n",
       "      <td>Probable Cause</td>\n",
       "    </tr>\n",
       "    <tr>\n",
       "      <th>13</th>\n",
       "      <td>20020917X02134</td>\n",
       "      <td>Accident</td>\n",
       "      <td>1982-01-02</td>\n",
       "      <td>HEARNE, TX</td>\n",
       "      <td>United States</td>\n",
       "      <td>Fatal(1)</td>\n",
       "      <td>Destroyed</td>\n",
       "      <td>Airplane</td>\n",
       "      <td>Cessna</td>\n",
       "      <td>R172K</td>\n",
       "      <td>1.0</td>\n",
       "      <td>NaN</td>\n",
       "      <td>1.0</td>\n",
       "      <td>0.0</td>\n",
       "      <td>0.0</td>\n",
       "      <td>0.0</td>\n",
       "      <td>IMC</td>\n",
       "      <td>Probable Cause</td>\n",
       "    </tr>\n",
       "    <tr>\n",
       "      <th>...</th>\n",
       "      <td>...</td>\n",
       "      <td>...</td>\n",
       "      <td>...</td>\n",
       "      <td>...</td>\n",
       "      <td>...</td>\n",
       "      <td>...</td>\n",
       "      <td>...</td>\n",
       "      <td>...</td>\n",
       "      <td>...</td>\n",
       "      <td>...</td>\n",
       "      <td>...</td>\n",
       "      <td>...</td>\n",
       "      <td>...</td>\n",
       "      <td>...</td>\n",
       "      <td>...</td>\n",
       "      <td>...</td>\n",
       "      <td>...</td>\n",
       "      <td>...</td>\n",
       "    </tr>\n",
       "    <tr>\n",
       "      <th>88869</th>\n",
       "      <td>20221213106455</td>\n",
       "      <td>Accident</td>\n",
       "      <td>2022-12-13</td>\n",
       "      <td>Lewistown, MT</td>\n",
       "      <td>United States</td>\n",
       "      <td>Non-Fatal</td>\n",
       "      <td>Substantial</td>\n",
       "      <td>Airplane</td>\n",
       "      <td>PIPER</td>\n",
       "      <td>PA42</td>\n",
       "      <td>2.0</td>\n",
       "      <td>NaN</td>\n",
       "      <td>0.0</td>\n",
       "      <td>0.0</td>\n",
       "      <td>0.0</td>\n",
       "      <td>1.0</td>\n",
       "      <td>NaN</td>\n",
       "      <td>NaN</td>\n",
       "    </tr>\n",
       "    <tr>\n",
       "      <th>88873</th>\n",
       "      <td>20221215106463</td>\n",
       "      <td>Accident</td>\n",
       "      <td>2022-12-14</td>\n",
       "      <td>San Juan, PR</td>\n",
       "      <td>United States</td>\n",
       "      <td>Non-Fatal</td>\n",
       "      <td>Substantial</td>\n",
       "      <td>Airplane</td>\n",
       "      <td>CIRRUS DESIGN CORP</td>\n",
       "      <td>SR22</td>\n",
       "      <td>1.0</td>\n",
       "      <td>SKY WEST AVIATION INC TRUSTEE</td>\n",
       "      <td>0.0</td>\n",
       "      <td>0.0</td>\n",
       "      <td>0.0</td>\n",
       "      <td>1.0</td>\n",
       "      <td>VMC</td>\n",
       "      <td>NaN</td>\n",
       "    </tr>\n",
       "    <tr>\n",
       "      <th>88876</th>\n",
       "      <td>20221219106475</td>\n",
       "      <td>Accident</td>\n",
       "      <td>2022-12-15</td>\n",
       "      <td>Wichita, KS</td>\n",
       "      <td>United States</td>\n",
       "      <td>Non-Fatal</td>\n",
       "      <td>Substantial</td>\n",
       "      <td>Airplane</td>\n",
       "      <td>SWEARINGEN</td>\n",
       "      <td>SA226TC</td>\n",
       "      <td>2.0</td>\n",
       "      <td>NaN</td>\n",
       "      <td>0.0</td>\n",
       "      <td>0.0</td>\n",
       "      <td>0.0</td>\n",
       "      <td>1.0</td>\n",
       "      <td>NaN</td>\n",
       "      <td>NaN</td>\n",
       "    </tr>\n",
       "    <tr>\n",
       "      <th>88877</th>\n",
       "      <td>20221219106470</td>\n",
       "      <td>Accident</td>\n",
       "      <td>2022-12-16</td>\n",
       "      <td>Brooksville, FL</td>\n",
       "      <td>United States</td>\n",
       "      <td>Minor</td>\n",
       "      <td>Substantial</td>\n",
       "      <td>Airplane</td>\n",
       "      <td>CESSNA</td>\n",
       "      <td>R172K</td>\n",
       "      <td>1.0</td>\n",
       "      <td>GERBER RICHARD E</td>\n",
       "      <td>0.0</td>\n",
       "      <td>1.0</td>\n",
       "      <td>0.0</td>\n",
       "      <td>0.0</td>\n",
       "      <td>VMC</td>\n",
       "      <td>NaN</td>\n",
       "    </tr>\n",
       "    <tr>\n",
       "      <th>88886</th>\n",
       "      <td>20221227106497</td>\n",
       "      <td>Accident</td>\n",
       "      <td>2022-12-26</td>\n",
       "      <td>Payson, AZ</td>\n",
       "      <td>United States</td>\n",
       "      <td>Non-Fatal</td>\n",
       "      <td>Substantial</td>\n",
       "      <td>Airplane</td>\n",
       "      <td>AMERICAN CHAMPION AIRCRAFT</td>\n",
       "      <td>8GCBC</td>\n",
       "      <td>1.0</td>\n",
       "      <td>NaN</td>\n",
       "      <td>0.0</td>\n",
       "      <td>0.0</td>\n",
       "      <td>0.0</td>\n",
       "      <td>1.0</td>\n",
       "      <td>VMC</td>\n",
       "      <td>NaN</td>\n",
       "    </tr>\n",
       "  </tbody>\n",
       "</table>\n",
       "<p>24205 rows × 18 columns</p>\n",
       "</div>"
      ],
      "text/plain": [
       "             Event.Id Investigation.Type  Event.Date          Location  \\\n",
       "5      20170710X52551           Accident  1979-09-17        BOSTON, MA   \n",
       "7      20020909X01562           Accident  1982-01-01       PULLMAN, WA   \n",
       "8      20020909X01561           Accident  1982-01-01  EAST HANOVER, NJ   \n",
       "12     20020917X02148           Accident  1982-01-02         HOMER, LA   \n",
       "13     20020917X02134           Accident  1982-01-02        HEARNE, TX   \n",
       "...               ...                ...         ...               ...   \n",
       "88869  20221213106455           Accident  2022-12-13     Lewistown, MT   \n",
       "88873  20221215106463           Accident  2022-12-14      San Juan, PR   \n",
       "88876  20221219106475           Accident  2022-12-15       Wichita, KS   \n",
       "88877  20221219106470           Accident  2022-12-16   Brooksville, FL   \n",
       "88886  20221227106497           Accident  2022-12-26        Payson, AZ   \n",
       "\n",
       "             Country Injury.Severity Aircraft.damage Aircraft.Category  \\\n",
       "5      United States       Non-Fatal     Substantial          Airplane   \n",
       "7      United States       Non-Fatal     Substantial          Airplane   \n",
       "8      United States       Non-Fatal     Substantial          Airplane   \n",
       "12     United States       Non-Fatal       Destroyed          Airplane   \n",
       "13     United States        Fatal(1)       Destroyed          Airplane   \n",
       "...              ...             ...             ...               ...   \n",
       "88869  United States       Non-Fatal     Substantial          Airplane   \n",
       "88873  United States       Non-Fatal     Substantial          Airplane   \n",
       "88876  United States       Non-Fatal     Substantial          Airplane   \n",
       "88877  United States           Minor     Substantial          Airplane   \n",
       "88886  United States       Non-Fatal     Substantial          Airplane   \n",
       "\n",
       "                             Make    Model  Number.of.Engines  \\\n",
       "5               Mcdonnell Douglas      DC9                2.0   \n",
       "7                          Cessna      140                1.0   \n",
       "8                          Cessna     401B                2.0   \n",
       "12                       Bellanca   17-30A                1.0   \n",
       "13                         Cessna    R172K                1.0   \n",
       "...                           ...      ...                ...   \n",
       "88869                       PIPER     PA42                2.0   \n",
       "88873          CIRRUS DESIGN CORP     SR22                1.0   \n",
       "88876                  SWEARINGEN  SA226TC                2.0   \n",
       "88877                      CESSNA    R172K                1.0   \n",
       "88886  AMERICAN CHAMPION AIRCRAFT    8GCBC                1.0   \n",
       "\n",
       "                         Air.carrier  Total.Fatal.Injuries  \\\n",
       "5                         Air Canada                   NaN   \n",
       "7                                NaN                   0.0   \n",
       "8                                NaN                   0.0   \n",
       "12                               NaN                   0.0   \n",
       "13                               NaN                   1.0   \n",
       "...                              ...                   ...   \n",
       "88869                            NaN                   0.0   \n",
       "88873  SKY WEST AVIATION INC TRUSTEE                   0.0   \n",
       "88876                            NaN                   0.0   \n",
       "88877               GERBER RICHARD E                   0.0   \n",
       "88886                            NaN                   0.0   \n",
       "\n",
       "       Total.Serious.Injuries  Total.Minor.Injuries  Total.Uninjured  \\\n",
       "5                         NaN                   1.0             44.0   \n",
       "7                         0.0                   0.0              2.0   \n",
       "8                         0.0                   0.0              2.0   \n",
       "12                        0.0                   1.0              0.0   \n",
       "13                        0.0                   0.0              0.0   \n",
       "...                       ...                   ...              ...   \n",
       "88869                     0.0                   0.0              1.0   \n",
       "88873                     0.0                   0.0              1.0   \n",
       "88876                     0.0                   0.0              1.0   \n",
       "88877                     1.0                   0.0              0.0   \n",
       "88886                     0.0                   0.0              1.0   \n",
       "\n",
       "      Weather.Condition   Report.Status  \n",
       "5                   VMC  Probable Cause  \n",
       "7                   VMC  Probable Cause  \n",
       "8                   IMC  Probable Cause  \n",
       "12                  IMC  Probable Cause  \n",
       "13                  IMC  Probable Cause  \n",
       "...                 ...             ...  \n",
       "88869               NaN             NaN  \n",
       "88873               VMC             NaN  \n",
       "88876               NaN             NaN  \n",
       "88877               VMC             NaN  \n",
       "88886               VMC             NaN  \n",
       "\n",
       "[24205 rows x 18 columns]"
      ]
     },
     "execution_count": 12,
     "metadata": {},
     "output_type": "execute_result"
    }
   ],
   "source": [
    "# drop nulls in Model and Model column\n",
    "aviation_columns = aviation_data.dropna(subset = ['Model', 'Make'])\n",
    "aviation_columns"
   ]
  },
  {
   "cell_type": "code",
   "execution_count": 13,
   "id": "5a35d8b5",
   "metadata": {},
   "outputs": [
    {
     "data": {
      "text/plain": [
       "Make\n",
       "CESSNA             4264\n",
       "Cessna             3461\n",
       "PIPER              2496\n",
       "Piper              1840\n",
       "BEECH               890\n",
       "                   ... \n",
       "Mcculley Ronald       1\n",
       "Dwight Lohr           1\n",
       "Bernhard              1\n",
       "MCCULLOCH JERRY       1\n",
       "ORLICAN S R O         1\n",
       "Name: count, Length: 3707, dtype: int64"
      ]
     },
     "execution_count": 13,
     "metadata": {},
     "output_type": "execute_result"
    }
   ],
   "source": [
    "aviation_data['Make'].value_counts()"
   ]
  },
  {
   "cell_type": "code",
   "execution_count": 14,
   "id": "89610271",
   "metadata": {},
   "outputs": [
    {
     "data": {
      "text/plain": [
       "Injury.Severity\n",
       "Non-Fatal     19865\n",
       "Fatal          3029\n",
       "Fatal(1)        359\n",
       "Fatal(2)        244\n",
       "Incident        167\n",
       "Minor           157\n",
       "Serious         114\n",
       "Fatal(3)         80\n",
       "Fatal(4)         63\n",
       "Fatal(5)         23\n",
       "Fatal(6)         15\n",
       "Fatal(7)          9\n",
       "Fatal(8)          7\n",
       "Fatal(10)         4\n",
       "Fatal(12)         3\n",
       "Fatal(9)          1\n",
       "Fatal(13)         1\n",
       "Fatal(65)         1\n",
       "Fatal(27)         1\n",
       "Fatal(228)        1\n",
       "Fatal(16)         1\n",
       "Fatal(17)         1\n",
       "Fatal(14)         1\n",
       "Fatal(11)         1\n",
       "Name: count, dtype: int64"
      ]
     },
     "execution_count": 14,
     "metadata": {},
     "output_type": "execute_result"
    }
   ],
   "source": [
    "#injury severity column values\n",
    "aviation_data['Injury.Severity'].value_counts()"
   ]
  },
  {
   "cell_type": "code",
   "execution_count": 15,
   "id": "eef2b256",
   "metadata": {},
   "outputs": [
    {
     "data": {
      "text/plain": [
       "81"
      ]
     },
     "execution_count": 15,
     "metadata": {},
     "output_type": "execute_result"
    }
   ],
   "source": [
    "aviation_data['Injury.Severity'].isna().sum()"
   ]
  },
  {
   "cell_type": "code",
   "execution_count": 16,
   "id": "e9be2e1c",
   "metadata": {},
   "outputs": [
    {
     "name": "stderr",
     "output_type": "stream",
     "text": [
      "C:\\Users\\user\\AppData\\Local\\Temp\\ipykernel_9776\\83358702.py:2: SettingWithCopyWarning: \n",
      "A value is trying to be set on a copy of a slice from a DataFrame.\n",
      "Try using .loc[row_indexer,col_indexer] = value instead\n",
      "\n",
      "See the caveats in the documentation: https://pandas.pydata.org/pandas-docs/stable/user_guide/indexing.html#returning-a-view-versus-a-copy\n",
      "  aviation_data['Injury.Severity'] = aviation_data['Injury.Severity'].fillna('Non-Fatal')\n"
     ]
    }
   ],
   "source": [
    "# fill nans with non fatal\n",
    "aviation_data['Injury.Severity'] = aviation_data['Injury.Severity'].fillna('Non-Fatal')"
   ]
  },
  {
   "cell_type": "code",
   "execution_count": 17,
   "id": "d0b2bf75",
   "metadata": {},
   "outputs": [
    {
     "data": {
      "text/plain": [
       "0"
      ]
     },
     "execution_count": 17,
     "metadata": {},
     "output_type": "execute_result"
    }
   ],
   "source": [
    "aviation_data['Injury.Severity'].isna().sum()"
   ]
  },
  {
   "cell_type": "code",
   "execution_count": 18,
   "id": "2a291b06",
   "metadata": {},
   "outputs": [
    {
     "name": "stderr",
     "output_type": "stream",
     "text": [
      "<>:2: SyntaxWarning: invalid escape sequence '\\('\n",
      "<>:2: SyntaxWarning: invalid escape sequence '\\('\n",
      "C:\\Users\\user\\AppData\\Local\\Temp\\ipykernel_9776\\245037731.py:2: SyntaxWarning: invalid escape sequence '\\('\n",
      "  aviation_columns.loc[aviation_columns['Injury.Severity'].str.contains('Fatal\\(', na=False), 'Injury.Severity'] = 'Fatal'\n",
      "C:\\Users\\user\\AppData\\Local\\Temp\\ipykernel_9776\\245037731.py:5: FutureWarning: A value is trying to be set on a copy of a DataFrame or Series through chained assignment using an inplace method.\n",
      "The behavior will change in pandas 3.0. This inplace method will never work because the intermediate object on which we are setting values always behaves as a copy.\n",
      "\n",
      "For example, when doing 'df[col].method(value, inplace=True)', try using 'df.method({col: value}, inplace=True)' or df[col] = df[col].method(value) instead, to perform the operation inplace on the original object.\n",
      "\n",
      "\n",
      "  aviation_columns['Injury.Severity'].fillna('Fatal', inplace=True)\n",
      "C:\\Users\\user\\AppData\\Local\\Temp\\ipykernel_9776\\245037731.py:5: SettingWithCopyWarning: \n",
      "A value is trying to be set on a copy of a slice from a DataFrame\n",
      "\n",
      "See the caveats in the documentation: https://pandas.pydata.org/pandas-docs/stable/user_guide/indexing.html#returning-a-view-versus-a-copy\n",
      "  aviation_columns['Injury.Severity'].fillna('Fatal', inplace=True)\n"
     ]
    }
   ],
   "source": [
    "# Replace all entries containing 'Fatal(' with 'Fatal'\n",
    "aviation_columns.loc[aviation_columns['Injury.Severity'].str.contains('Fatal\\(', na=False), 'Injury.Severity'] = 'Fatal'\n",
    "\n",
    "# Replace NaN values with 'Fatal'\n",
    "aviation_columns['Injury.Severity'].fillna('Fatal', inplace=True)\n"
   ]
  },
  {
   "cell_type": "code",
   "execution_count": 19,
   "id": "8c28b238",
   "metadata": {},
   "outputs": [
    {
     "data": {
      "text/plain": [
       "Injury.Severity\n",
       "Non-Fatal    19848\n",
       "Fatal         3921\n",
       "Incident       165\n",
       "Minor          157\n",
       "Serious        114\n",
       "Name: count, dtype: int64"
      ]
     },
     "execution_count": 19,
     "metadata": {},
     "output_type": "execute_result"
    }
   ],
   "source": [
    "aviation_columns['Injury.Severity'].value_counts()"
   ]
  },
  {
   "cell_type": "code",
   "execution_count": 20,
   "id": "11498d5e",
   "metadata": {},
   "outputs": [
    {
     "data": {
      "text/plain": [
       "Total.Fatal.Injuries\n",
       "0.0      17420\n",
       "1.0       2077\n",
       "2.0       1118\n",
       "3.0        299\n",
       "4.0        191\n",
       "5.0         60\n",
       "6.0         33\n",
       "7.0         15\n",
       "8.0         10\n",
       "10.0         8\n",
       "9.0          4\n",
       "12.0         3\n",
       "14.0         2\n",
       "11.0         2\n",
       "17.0         1\n",
       "27.0         1\n",
       "16.0         1\n",
       "228.0        1\n",
       "65.0         1\n",
       "13.0         1\n",
       "49.0         1\n",
       "Name: count, dtype: int64"
      ]
     },
     "execution_count": 20,
     "metadata": {},
     "output_type": "execute_result"
    }
   ],
   "source": [
    "aviation_columns['Total.Fatal.Injuries'].value_counts()"
   ]
  },
  {
   "cell_type": "code",
   "execution_count": 21,
   "id": "fba49c58",
   "metadata": {},
   "outputs": [
    {
     "data": {
      "text/plain": [
       "array(['Non-Fatal', 'Fatal', 'Incident', 'Minor', 'Serious'], dtype=object)"
      ]
     },
     "execution_count": 21,
     "metadata": {},
     "output_type": "execute_result"
    }
   ],
   "source": [
    "aviation_columns['Injury.Severity'].unique()"
   ]
  },
  {
   "cell_type": "code",
   "execution_count": 22,
   "id": "bcdef53e",
   "metadata": {},
   "outputs": [
    {
     "data": {
      "text/plain": [
       "Aircraft.damage\n",
       "Substantial    20508\n",
       "Destroyed       2666\n",
       "Minor            507\n",
       "Unknown           43\n",
       "Name: count, dtype: int64"
      ]
     },
     "execution_count": 22,
     "metadata": {},
     "output_type": "execute_result"
    }
   ],
   "source": [
    "aviation_columns['Aircraft.damage'].value_counts()"
   ]
  },
  {
   "cell_type": "code",
   "execution_count": 23,
   "id": "078fefc2",
   "metadata": {},
   "outputs": [
    {
     "data": {
      "text/plain": [
       "481"
      ]
     },
     "execution_count": 23,
     "metadata": {},
     "output_type": "execute_result"
    }
   ],
   "source": [
    "aviation_columns['Aircraft.damage'].isna().sum()"
   ]
  },
  {
   "cell_type": "code",
   "execution_count": 24,
   "id": "209e5779",
   "metadata": {},
   "outputs": [
    {
     "name": "stderr",
     "output_type": "stream",
     "text": [
      "C:\\Users\\user\\AppData\\Local\\Temp\\ipykernel_9776\\1785998025.py:2: SettingWithCopyWarning: \n",
      "A value is trying to be set on a copy of a slice from a DataFrame.\n",
      "Try using .loc[row_indexer,col_indexer] = value instead\n",
      "\n",
      "See the caveats in the documentation: https://pandas.pydata.org/pandas-docs/stable/user_guide/indexing.html#returning-a-view-versus-a-copy\n",
      "  aviation_columns['Aircraft.damage'] = aviation_columns['Aircraft.damage'].fillna('Unknown')\n"
     ]
    }
   ],
   "source": [
    "# replace aircraft damage nans with unknown\n",
    "aviation_columns['Aircraft.damage'] = aviation_columns['Aircraft.damage'].fillna('Unknown')"
   ]
  },
  {
   "cell_type": "code",
   "execution_count": 25,
   "id": "22cbd178",
   "metadata": {},
   "outputs": [
    {
     "data": {
      "text/html": [
       "<div>\n",
       "<style scoped>\n",
       "    .dataframe tbody tr th:only-of-type {\n",
       "        vertical-align: middle;\n",
       "    }\n",
       "\n",
       "    .dataframe tbody tr th {\n",
       "        vertical-align: top;\n",
       "    }\n",
       "\n",
       "    .dataframe thead th {\n",
       "        text-align: right;\n",
       "    }\n",
       "</style>\n",
       "<table border=\"1\" class=\"dataframe\">\n",
       "  <thead>\n",
       "    <tr style=\"text-align: right;\">\n",
       "      <th></th>\n",
       "      <th>Number.of.Engines</th>\n",
       "      <th>Total.Fatal.Injuries</th>\n",
       "      <th>Total.Serious.Injuries</th>\n",
       "      <th>Total.Minor.Injuries</th>\n",
       "      <th>Total.Uninjured</th>\n",
       "    </tr>\n",
       "  </thead>\n",
       "  <tbody>\n",
       "    <tr>\n",
       "      <th>count</th>\n",
       "      <td>23583.000000</td>\n",
       "      <td>21249.000000</td>\n",
       "      <td>21270.000000</td>\n",
       "      <td>21613.000000</td>\n",
       "      <td>23493.000000</td>\n",
       "    </tr>\n",
       "    <tr>\n",
       "      <th>mean</th>\n",
       "      <td>1.132723</td>\n",
       "      <td>0.342322</td>\n",
       "      <td>0.278608</td>\n",
       "      <td>0.220423</td>\n",
       "      <td>4.306176</td>\n",
       "    </tr>\n",
       "    <tr>\n",
       "      <th>std</th>\n",
       "      <td>0.367482</td>\n",
       "      <td>1.892637</td>\n",
       "      <td>1.633074</td>\n",
       "      <td>0.822648</td>\n",
       "      <td>24.239808</td>\n",
       "    </tr>\n",
       "    <tr>\n",
       "      <th>min</th>\n",
       "      <td>0.000000</td>\n",
       "      <td>0.000000</td>\n",
       "      <td>0.000000</td>\n",
       "      <td>0.000000</td>\n",
       "      <td>0.000000</td>\n",
       "    </tr>\n",
       "    <tr>\n",
       "      <th>25%</th>\n",
       "      <td>1.000000</td>\n",
       "      <td>0.000000</td>\n",
       "      <td>0.000000</td>\n",
       "      <td>0.000000</td>\n",
       "      <td>0.000000</td>\n",
       "    </tr>\n",
       "    <tr>\n",
       "      <th>50%</th>\n",
       "      <td>1.000000</td>\n",
       "      <td>0.000000</td>\n",
       "      <td>0.000000</td>\n",
       "      <td>0.000000</td>\n",
       "      <td>1.000000</td>\n",
       "    </tr>\n",
       "    <tr>\n",
       "      <th>75%</th>\n",
       "      <td>1.000000</td>\n",
       "      <td>0.000000</td>\n",
       "      <td>0.000000</td>\n",
       "      <td>0.000000</td>\n",
       "      <td>2.000000</td>\n",
       "    </tr>\n",
       "    <tr>\n",
       "      <th>max</th>\n",
       "      <td>8.000000</td>\n",
       "      <td>228.000000</td>\n",
       "      <td>137.000000</td>\n",
       "      <td>50.000000</td>\n",
       "      <td>588.000000</td>\n",
       "    </tr>\n",
       "  </tbody>\n",
       "</table>\n",
       "</div>"
      ],
      "text/plain": [
       "       Number.of.Engines  Total.Fatal.Injuries  Total.Serious.Injuries  \\\n",
       "count       23583.000000          21249.000000            21270.000000   \n",
       "mean            1.132723              0.342322                0.278608   \n",
       "std             0.367482              1.892637                1.633074   \n",
       "min             0.000000              0.000000                0.000000   \n",
       "25%             1.000000              0.000000                0.000000   \n",
       "50%             1.000000              0.000000                0.000000   \n",
       "75%             1.000000              0.000000                0.000000   \n",
       "max             8.000000            228.000000              137.000000   \n",
       "\n",
       "       Total.Minor.Injuries  Total.Uninjured  \n",
       "count          21613.000000     23493.000000  \n",
       "mean               0.220423         4.306176  \n",
       "std                0.822648        24.239808  \n",
       "min                0.000000         0.000000  \n",
       "25%                0.000000         0.000000  \n",
       "50%                0.000000         1.000000  \n",
       "75%                0.000000         2.000000  \n",
       "max               50.000000       588.000000  "
      ]
     },
     "execution_count": 25,
     "metadata": {},
     "output_type": "execute_result"
    }
   ],
   "source": [
    "aviation_columns.describe() # see summary statistics for numerical columns"
   ]
  },
  {
   "cell_type": "code",
   "execution_count": 26,
   "id": "5e16f650",
   "metadata": {},
   "outputs": [
    {
     "name": "stderr",
     "output_type": "stream",
     "text": [
      "C:\\Users\\user\\AppData\\Local\\Temp\\ipykernel_9776\\427457474.py:2: SettingWithCopyWarning: \n",
      "A value is trying to be set on a copy of a slice from a DataFrame.\n",
      "Try using .loc[row_indexer,col_indexer] = value instead\n",
      "\n",
      "See the caveats in the documentation: https://pandas.pydata.org/pandas-docs/stable/user_guide/indexing.html#returning-a-view-versus-a-copy\n",
      "  aviation_columns['Number.of.Engines'] = aviation_columns['Number.of.Engines'].fillna(aviation_columns['Number.of.Engines'].mean())\n"
     ]
    }
   ],
   "source": [
    "# fill number of engines with mean\n",
    "aviation_columns['Number.of.Engines'] = aviation_columns['Number.of.Engines'].fillna(aviation_columns['Number.of.Engines'].mean())"
   ]
  },
  {
   "cell_type": "code",
   "execution_count": 27,
   "id": "c8f048d9",
   "metadata": {},
   "outputs": [
    {
     "data": {
      "text/plain": [
       "Weather.Condition\n",
       "VMC    22296\n",
       "IMC     1294\n",
       "Unk      111\n",
       "UNK       58\n",
       "Name: count, dtype: int64"
      ]
     },
     "execution_count": 27,
     "metadata": {},
     "output_type": "execute_result"
    }
   ],
   "source": [
    "# weather condition values and counts\n",
    "aviation_columns['Weather.Condition'].value_counts()"
   ]
  },
  {
   "cell_type": "code",
   "execution_count": 28,
   "id": "5ae1d8be",
   "metadata": {},
   "outputs": [
    {
     "name": "stderr",
     "output_type": "stream",
     "text": [
      "C:\\Users\\user\\AppData\\Local\\Temp\\ipykernel_9776\\3193432514.py:2: SettingWithCopyWarning: \n",
      "A value is trying to be set on a copy of a slice from a DataFrame.\n",
      "Try using .loc[row_indexer,col_indexer] = value instead\n",
      "\n",
      "See the caveats in the documentation: https://pandas.pydata.org/pandas-docs/stable/user_guide/indexing.html#returning-a-view-versus-a-copy\n",
      "  aviation_columns['Weather.Condition'] = aviation_columns['Weather.Condition'].replace({'Unk' : 'UNK'})\n"
     ]
    }
   ],
   "source": [
    "# combine unknown columns in weather condition\n",
    "aviation_columns['Weather.Condition'] = aviation_columns['Weather.Condition'].replace({'Unk' : 'UNK'})"
   ]
  },
  {
   "cell_type": "code",
   "execution_count": 29,
   "id": "dc96bde4",
   "metadata": {},
   "outputs": [
    {
     "data": {
      "text/plain": [
       "446"
      ]
     },
     "execution_count": 29,
     "metadata": {},
     "output_type": "execute_result"
    }
   ],
   "source": [
    "aviation_columns['Weather.Condition'].isna().sum()"
   ]
  },
  {
   "cell_type": "code",
   "execution_count": 30,
   "id": "f0c87699",
   "metadata": {},
   "outputs": [
    {
     "data": {
      "text/plain": [
       "Weather.Condition\n",
       "VMC    22296\n",
       "IMC     1294\n",
       "UNK      169\n",
       "Name: count, dtype: int64"
      ]
     },
     "execution_count": 30,
     "metadata": {},
     "output_type": "execute_result"
    }
   ],
   "source": [
    "aviation_columns['Weather.Condition'].value_counts()"
   ]
  },
  {
   "cell_type": "code",
   "execution_count": 31,
   "id": "71bf0d63",
   "metadata": {},
   "outputs": [
    {
     "name": "stderr",
     "output_type": "stream",
     "text": [
      "C:\\Users\\user\\AppData\\Local\\Temp\\ipykernel_9776\\1779946441.py:2: SettingWithCopyWarning: \n",
      "A value is trying to be set on a copy of a slice from a DataFrame.\n",
      "Try using .loc[row_indexer,col_indexer] = value instead\n",
      "\n",
      "See the caveats in the documentation: https://pandas.pydata.org/pandas-docs/stable/user_guide/indexing.html#returning-a-view-versus-a-copy\n",
      "  aviation_columns['Weather.Condition'] = aviation_columns['Weather.Condition'].fillna('UNK')\n"
     ]
    }
   ],
   "source": [
    "# filled weather condition nans with unknown\n",
    "aviation_columns['Weather.Condition'] = aviation_columns['Weather.Condition'].fillna('UNK')"
   ]
  },
  {
   "cell_type": "code",
   "execution_count": 32,
   "id": "cd034ffd",
   "metadata": {},
   "outputs": [
    {
     "data": {
      "text/plain": [
       "0"
      ]
     },
     "execution_count": 32,
     "metadata": {},
     "output_type": "execute_result"
    }
   ],
   "source": [
    "aviation_columns['Weather.Condition'].isna().sum()"
   ]
  },
  {
   "cell_type": "code",
   "execution_count": 33,
   "id": "dd2b0560",
   "metadata": {},
   "outputs": [
    {
     "data": {
      "text/plain": [
       "2176"
      ]
     },
     "execution_count": 33,
     "metadata": {},
     "output_type": "execute_result"
    }
   ],
   "source": [
    "aviation_columns['Report.Status'].isna().sum()"
   ]
  },
  {
   "cell_type": "code",
   "execution_count": 34,
   "id": "431d82b2",
   "metadata": {},
   "outputs": [
    {
     "data": {
      "text/plain": [
       "Report.Status\n",
       "Probable Cause                                                                                                                                                                                                                                                                                                                                                                                                                                          6364\n",
       "The pilot's failure to maintain directional control during the landing roll.                                                                                                                                                                                                                                                                                                                                                                              56\n",
       "A loss of engine power for undetermined reasons.                                                                                                                                                                                                                                                                                                                                                                                                          49\n",
       "The pilot's failure to maintain directional control during landing.                                                                                                                                                                                                                                                                                                                                                                                       43\n",
       "A total loss of engine power for undetermined reasons.                                                                                                                                                                                                                                                                                                                                                                                                    38\n",
       "                                                                                                                                                                                                                                                                                                                                                                                                                                                        ... \n",
       "The pilot's failure to maintain minimum control airspeed after a loss of power to the right engine, which resulted in an uncontrollable roll into an inadvertent stall/spin. Contributing to the accident was the failure of the airplane's right engine for reasons that could not be determined because no preexisting mechanical anomalies were found, and the pilot's subsequent turn toward that inoperative engine while maintaining altitude.       1\n",
       "The pilots failure to maintain sufficient altitude from the terrain while performing low-level aerobatics.                                                                                                                                                                                                                                                                                                                                                1\n",
       "The snowplow operators incapacitation due to fatigue, which resulted in the snowplow contacting a parked airplane. Contributing to the incident was the companys lack of a policy regarding employee fatigue.                                                                                                                                                                                                                                            1\n",
       "The pilots failure to maintain airplane control during an attempted go-around.                                                                                                                                                                                                                                                                                                                                                                            1\n",
       "The pilots loss of control due to a wind gust during landing.                                                                                                                                                                                                                                                                                                                                                                                             1\n",
       "Name: count, Length: 14437, dtype: int64"
      ]
     },
     "execution_count": 34,
     "metadata": {},
     "output_type": "execute_result"
    }
   ],
   "source": [
    "aviation_columns['Report.Status'].value_counts()"
   ]
  },
  {
   "cell_type": "code",
   "execution_count": 35,
   "id": "892f664c",
   "metadata": {},
   "outputs": [],
   "source": [
    "aviation_columns = aviation_columns.dropna(subset = ['Report.Status'])"
   ]
  },
  {
   "cell_type": "code",
   "execution_count": 36,
   "id": "05a8d8d2",
   "metadata": {},
   "outputs": [],
   "source": [
    "aviation_columns = aviation_columns[aviation_columns['Report.Status'] != 'Foreign']"
   ]
  },
  {
   "cell_type": "code",
   "execution_count": 37,
   "id": "fa5d9e5c",
   "metadata": {},
   "outputs": [],
   "source": [
    "aviation_columns = aviation_columns[aviation_columns['Report.Status'] != 'Probable Cause']"
   ]
  },
  {
   "cell_type": "code",
   "execution_count": 38,
   "id": "19c19b77",
   "metadata": {},
   "outputs": [
    {
     "data": {
      "text/plain": [
       "Report.Status\n",
       "The pilot's failure to maintain directional control during the landing roll.                                                                                                                                                                            56\n",
       "A loss of engine power for undetermined reasons.                                                                                                                                                                                                        49\n",
       "The pilot's failure to maintain directional control during landing.                                                                                                                                                                                     43\n",
       "A total loss of engine power for undetermined reasons.                                                                                                                                                                                                  38\n",
       "The loss of engine power for undetermined reasons.                                                                                                                                                                                                      28\n",
       "                                                                                                                                                                                                                                                        ..\n",
       "The snowplow operators incapacitation due to fatigue, which resulted in the snowplow contacting a parked airplane. Contributing to the incident was the companys lack of a policy regarding employee fatigue.                                          1\n",
       "The pilots failure to maintain airplane control during an attempted go-around.                                                                                                                                                                          1\n",
       "The pilots failure to maintain adequate airspeed during a single-engine approach, which resulted in an aerodynamic stall. Contributing to the accident was the total loss of power in the left engine due to a failed No. 2 connecting rod bearing.     1\n",
       "The pilot's decision to land on a runway with a gusting, quartering tailwind and his inadequate compensation for the wind, which resulted in a hard landing.                                                                                             1\n",
       "The pilots loss of control due to a wind gust during landing.                                                                                                                                                                                           1\n",
       "Name: count, Length: 14435, dtype: int64"
      ]
     },
     "execution_count": 38,
     "metadata": {},
     "output_type": "execute_result"
    }
   ],
   "source": [
    "aviation_columns['Report.Status'].value_counts()"
   ]
  },
  {
   "cell_type": "code",
   "execution_count": 39,
   "id": "b1863409",
   "metadata": {},
   "outputs": [
    {
     "data": {
      "text/plain": [
       "Event.Date\n",
       "2012-08-31    15\n",
       "2011-03-19    14\n",
       "2011-07-23    14\n",
       "2010-05-29    14\n",
       "2011-06-18    14\n",
       "              ..\n",
       "2012-12-16     1\n",
       "2019-01-31     1\n",
       "2019-01-30     1\n",
       "2019-01-28     1\n",
       "2022-11-09     1\n",
       "Name: count, Length: 4720, dtype: int64"
      ]
     },
     "execution_count": 39,
     "metadata": {},
     "output_type": "execute_result"
    }
   ],
   "source": [
    "aviation_columns['Event.Date'].value_counts()"
   ]
  },
  {
   "cell_type": "code",
   "execution_count": 40,
   "id": "1e23402a",
   "metadata": {},
   "outputs": [],
   "source": [
    "aviation_columns['Event.Date'] = aviation_columns['Event.Date'].map(lambda x: x[:4])"
   ]
  },
  {
   "cell_type": "code",
   "execution_count": 41,
   "id": "d6d213b4",
   "metadata": {},
   "outputs": [
    {
     "data": {
      "text/plain": [
       "array(['2008', '2009', '2010', '2011', '2012', '2013', '2014', '2015',\n",
       "       '2016', '2017', '2018', '2019', '2020', '2021', '2022'],\n",
       "      dtype=object)"
      ]
     },
     "execution_count": 41,
     "metadata": {},
     "output_type": "execute_result"
    }
   ],
   "source": [
    "aviation_columns['Event.Date'].unique()"
   ]
  },
  {
   "cell_type": "code",
   "execution_count": 42,
   "id": "f3ffd456",
   "metadata": {},
   "outputs": [
    {
     "data": {
      "text/plain": [
       "Event.Id                     0\n",
       "Investigation.Type           0\n",
       "Event.Date                   0\n",
       "Location                     0\n",
       "Country                      0\n",
       "Injury.Severity              0\n",
       "Aircraft.damage              0\n",
       "Aircraft.Category            0\n",
       "Make                         0\n",
       "Model                        0\n",
       "Number.of.Engines            0\n",
       "Air.carrier               7131\n",
       "Total.Fatal.Injuries         0\n",
       "Total.Serious.Injuries       0\n",
       "Total.Minor.Injuries         0\n",
       "Total.Uninjured              0\n",
       "Weather.Condition            0\n",
       "Report.Status                0\n",
       "dtype: int64"
      ]
     },
     "execution_count": 42,
     "metadata": {},
     "output_type": "execute_result"
    }
   ],
   "source": [
    "aviation_columns.isna().sum()"
   ]
  },
  {
   "cell_type": "code",
   "execution_count": 43,
   "id": "a0573319",
   "metadata": {},
   "outputs": [],
   "source": [
    "# need to clean up make column\n",
    "aviation_columns['Make'] = aviation_columns['Make'].map(lambda x: x.lower())"
   ]
  },
  {
   "cell_type": "code",
   "execution_count": 44,
   "id": "0229ffa7",
   "metadata": {},
   "outputs": [
    {
     "data": {
      "text/plain": [
       "Make\n",
       "cessna                4638\n",
       "piper                 2691\n",
       "beech                  935\n",
       "boeing                 291\n",
       "mooney                 238\n",
       "                      ... \n",
       "quasar acft co llc       1\n",
       "moyes                    1\n",
       "floyd joseph b           1\n",
       "evens                    1\n",
       "stephen j hoffman        1\n",
       "Name: count, Length: 2690, dtype: int64"
      ]
     },
     "execution_count": 44,
     "metadata": {},
     "output_type": "execute_result"
    }
   ],
   "source": [
    "aviation_columns['Make'].value_counts()"
   ]
  },
  {
   "cell_type": "code",
   "execution_count": 45,
   "id": "63c74fe6",
   "metadata": {},
   "outputs": [],
   "source": [
    "aviation_columns['Make'] = aviation_columns['Make'].map(lambda x: x.title())"
   ]
  },
  {
   "cell_type": "code",
   "execution_count": 46,
   "id": "f95a6abb",
   "metadata": {},
   "outputs": [],
   "source": [
    "# filters by top ten makes \n",
    "top_ten_makes = aviation_columns.Make.value_counts().nlargest(10)\n",
    "topten_df = aviation_columns[aviation_columns.Make.isin(top_ten_makes.index)]"
   ]
  },
  {
   "cell_type": "code",
   "execution_count": 47,
   "id": "3f0754c3",
   "metadata": {},
   "outputs": [
    {
     "data": {
      "text/plain": [
       "Text(0, 0.5, 'Frequency')"
      ]
     },
     "execution_count": 47,
     "metadata": {},
     "output_type": "execute_result"
    },
    {
     "data": {
      "image/png": "[encoded data removed]",
      "text/plain": [
       "<Figure size 640x480 with 1 Axes>"
      ]
     },
     "metadata": {},
     "output_type": "display_data"
    }
   ],
   "source": [
    "# plot top ten to show - might use this in analysis\n",
    "# Setting up the plot\n",
    "fig, ax = plt.subplots()\n",
    "top_ten_makes.plot.bar()\n",
    "\n",
    "ax.set_title('Top Ten Airplane Makes')\n",
    "ax.set_xlabel('Top Ten Makes')\n",
    "ax.set_ylabel('Frequency')"
   ]
  },
  {
   "cell_type": "code",
   "execution_count": 48,
   "id": "43da9319",
   "metadata": {},
   "outputs": [
    {
     "data": {
      "text/html": [
       "<div>\n",
       "<style scoped>\n",
       "    .dataframe tbody tr th:only-of-type {\n",
       "        vertical-align: middle;\n",
       "    }\n",
       "\n",
       "    .dataframe tbody tr th {\n",
       "        vertical-align: top;\n",
       "    }\n",
       "\n",
       "    .dataframe thead th {\n",
       "        text-align: right;\n",
       "    }\n",
       "</style>\n",
       "<table border=\"1\" class=\"dataframe\">\n",
       "  <thead>\n",
       "    <tr style=\"text-align: right;\">\n",
       "      <th></th>\n",
       "      <th>Event.Id</th>\n",
       "      <th>Investigation.Type</th>\n",
       "      <th>Event.Date</th>\n",
       "      <th>Location</th>\n",
       "      <th>Country</th>\n",
       "      <th>Injury.Severity</th>\n",
       "      <th>Aircraft.damage</th>\n",
       "      <th>Aircraft.Category</th>\n",
       "      <th>Make</th>\n",
       "      <th>Model</th>\n",
       "      <th>Number.of.Engines</th>\n",
       "      <th>Air.carrier</th>\n",
       "      <th>Total.Fatal.Injuries</th>\n",
       "      <th>Total.Serious.Injuries</th>\n",
       "      <th>Total.Minor.Injuries</th>\n",
       "      <th>Total.Uninjured</th>\n",
       "      <th>Weather.Condition</th>\n",
       "      <th>Report.Status</th>\n",
       "    </tr>\n",
       "  </thead>\n",
       "  <tbody>\n",
       "    <tr>\n",
       "      <th>5</th>\n",
       "      <td>20170710X52551</td>\n",
       "      <td>Accident</td>\n",
       "      <td>1979-09-17</td>\n",
       "      <td>BOSTON, MA</td>\n",
       "      <td>United States</td>\n",
       "      <td>Non-Fatal</td>\n",
       "      <td>Substantial</td>\n",
       "      <td>Airplane</td>\n",
       "      <td>Mcdonnell Douglas</td>\n",
       "      <td>DC9</td>\n",
       "      <td>2.0</td>\n",
       "      <td>Air Canada</td>\n",
       "      <td>NaN</td>\n",
       "      <td>NaN</td>\n",
       "      <td>1.0</td>\n",
       "      <td>44.0</td>\n",
       "      <td>VMC</td>\n",
       "      <td>Probable Cause</td>\n",
       "    </tr>\n",
       "    <tr>\n",
       "      <th>7</th>\n",
       "      <td>20020909X01562</td>\n",
       "      <td>Accident</td>\n",
       "      <td>1982-01-01</td>\n",
       "      <td>PULLMAN, WA</td>\n",
       "      <td>United States</td>\n",
       "      <td>Non-Fatal</td>\n",
       "      <td>Substantial</td>\n",
       "      <td>Airplane</td>\n",
       "      <td>Cessna</td>\n",
       "      <td>140</td>\n",
       "      <td>1.0</td>\n",
       "      <td>NaN</td>\n",
       "      <td>0.0</td>\n",
       "      <td>0.0</td>\n",
       "      <td>0.0</td>\n",
       "      <td>2.0</td>\n",
       "      <td>VMC</td>\n",
       "      <td>Probable Cause</td>\n",
       "    </tr>\n",
       "    <tr>\n",
       "      <th>8</th>\n",
       "      <td>20020909X01561</td>\n",
       "      <td>Accident</td>\n",
       "      <td>1982-01-01</td>\n",
       "      <td>EAST HANOVER, NJ</td>\n",
       "      <td>United States</td>\n",
       "      <td>Non-Fatal</td>\n",
       "      <td>Substantial</td>\n",
       "      <td>Airplane</td>\n",
       "      <td>Cessna</td>\n",
       "      <td>401B</td>\n",
       "      <td>2.0</td>\n",
       "      <td>NaN</td>\n",
       "      <td>0.0</td>\n",
       "      <td>0.0</td>\n",
       "      <td>0.0</td>\n",
       "      <td>2.0</td>\n",
       "      <td>IMC</td>\n",
       "      <td>Probable Cause</td>\n",
       "    </tr>\n",
       "    <tr>\n",
       "      <th>12</th>\n",
       "      <td>20020917X02148</td>\n",
       "      <td>Accident</td>\n",
       "      <td>1982-01-02</td>\n",
       "      <td>HOMER, LA</td>\n",
       "      <td>United States</td>\n",
       "      <td>Non-Fatal</td>\n",
       "      <td>Destroyed</td>\n",
       "      <td>Airplane</td>\n",
       "      <td>Bellanca</td>\n",
       "      <td>17-30A</td>\n",
       "      <td>1.0</td>\n",
       "      <td>NaN</td>\n",
       "      <td>0.0</td>\n",
       "      <td>0.0</td>\n",
       "      <td>1.0</td>\n",
       "      <td>0.0</td>\n",
       "      <td>IMC</td>\n",
       "      <td>Probable Cause</td>\n",
       "    </tr>\n",
       "    <tr>\n",
       "      <th>13</th>\n",
       "      <td>20020917X02134</td>\n",
       "      <td>Accident</td>\n",
       "      <td>1982-01-02</td>\n",
       "      <td>HEARNE, TX</td>\n",
       "      <td>United States</td>\n",
       "      <td>Fatal(1)</td>\n",
       "      <td>Destroyed</td>\n",
       "      <td>Airplane</td>\n",
       "      <td>Cessna</td>\n",
       "      <td>R172K</td>\n",
       "      <td>1.0</td>\n",
       "      <td>NaN</td>\n",
       "      <td>1.0</td>\n",
       "      <td>0.0</td>\n",
       "      <td>0.0</td>\n",
       "      <td>0.0</td>\n",
       "      <td>IMC</td>\n",
       "      <td>Probable Cause</td>\n",
       "    </tr>\n",
       "    <tr>\n",
       "      <th>...</th>\n",
       "      <td>...</td>\n",
       "      <td>...</td>\n",
       "      <td>...</td>\n",
       "      <td>...</td>\n",
       "      <td>...</td>\n",
       "      <td>...</td>\n",
       "      <td>...</td>\n",
       "      <td>...</td>\n",
       "      <td>...</td>\n",
       "      <td>...</td>\n",
       "      <td>...</td>\n",
       "      <td>...</td>\n",
       "      <td>...</td>\n",
       "      <td>...</td>\n",
       "      <td>...</td>\n",
       "      <td>...</td>\n",
       "      <td>...</td>\n",
       "      <td>...</td>\n",
       "    </tr>\n",
       "    <tr>\n",
       "      <th>88869</th>\n",
       "      <td>20221213106455</td>\n",
       "      <td>Accident</td>\n",
       "      <td>2022-12-13</td>\n",
       "      <td>Lewistown, MT</td>\n",
       "      <td>United States</td>\n",
       "      <td>Non-Fatal</td>\n",
       "      <td>Substantial</td>\n",
       "      <td>Airplane</td>\n",
       "      <td>PIPER</td>\n",
       "      <td>PA42</td>\n",
       "      <td>2.0</td>\n",
       "      <td>NaN</td>\n",
       "      <td>0.0</td>\n",
       "      <td>0.0</td>\n",
       "      <td>0.0</td>\n",
       "      <td>1.0</td>\n",
       "      <td>NaN</td>\n",
       "      <td>NaN</td>\n",
       "    </tr>\n",
       "    <tr>\n",
       "      <th>88873</th>\n",
       "      <td>20221215106463</td>\n",
       "      <td>Accident</td>\n",
       "      <td>2022-12-14</td>\n",
       "      <td>San Juan, PR</td>\n",
       "      <td>United States</td>\n",
       "      <td>Non-Fatal</td>\n",
       "      <td>Substantial</td>\n",
       "      <td>Airplane</td>\n",
       "      <td>CIRRUS DESIGN CORP</td>\n",
       "      <td>SR22</td>\n",
       "      <td>1.0</td>\n",
       "      <td>SKY WEST AVIATION INC TRUSTEE</td>\n",
       "      <td>0.0</td>\n",
       "      <td>0.0</td>\n",
       "      <td>0.0</td>\n",
       "      <td>1.0</td>\n",
       "      <td>VMC</td>\n",
       "      <td>NaN</td>\n",
       "    </tr>\n",
       "    <tr>\n",
       "      <th>88876</th>\n",
       "      <td>20221219106475</td>\n",
       "      <td>Accident</td>\n",
       "      <td>2022-12-15</td>\n",
       "      <td>Wichita, KS</td>\n",
       "      <td>United States</td>\n",
       "      <td>Non-Fatal</td>\n",
       "      <td>Substantial</td>\n",
       "      <td>Airplane</td>\n",
       "      <td>SWEARINGEN</td>\n",
       "      <td>SA226TC</td>\n",
       "      <td>2.0</td>\n",
       "      <td>NaN</td>\n",
       "      <td>0.0</td>\n",
       "      <td>0.0</td>\n",
       "      <td>0.0</td>\n",
       "      <td>1.0</td>\n",
       "      <td>NaN</td>\n",
       "      <td>NaN</td>\n",
       "    </tr>\n",
       "    <tr>\n",
       "      <th>88877</th>\n",
       "      <td>20221219106470</td>\n",
       "      <td>Accident</td>\n",
       "      <td>2022-12-16</td>\n",
       "      <td>Brooksville, FL</td>\n",
       "      <td>United States</td>\n",
       "      <td>Minor</td>\n",
       "      <td>Substantial</td>\n",
       "      <td>Airplane</td>\n",
       "      <td>CESSNA</td>\n",
       "      <td>R172K</td>\n",
       "      <td>1.0</td>\n",
       "      <td>GERBER RICHARD E</td>\n",
       "      <td>0.0</td>\n",
       "      <td>1.0</td>\n",
       "      <td>0.0</td>\n",
       "      <td>0.0</td>\n",
       "      <td>VMC</td>\n",
       "      <td>NaN</td>\n",
       "    </tr>\n",
       "    <tr>\n",
       "      <th>88886</th>\n",
       "      <td>20221227106497</td>\n",
       "      <td>Accident</td>\n",
       "      <td>2022-12-26</td>\n",
       "      <td>Payson, AZ</td>\n",
       "      <td>United States</td>\n",
       "      <td>Non-Fatal</td>\n",
       "      <td>Substantial</td>\n",
       "      <td>Airplane</td>\n",
       "      <td>AMERICAN CHAMPION AIRCRAFT</td>\n",
       "      <td>8GCBC</td>\n",
       "      <td>1.0</td>\n",
       "      <td>NaN</td>\n",
       "      <td>0.0</td>\n",
       "      <td>0.0</td>\n",
       "      <td>0.0</td>\n",
       "      <td>1.0</td>\n",
       "      <td>VMC</td>\n",
       "      <td>NaN</td>\n",
       "    </tr>\n",
       "  </tbody>\n",
       "</table>\n",
       "<p>24229 rows × 18 columns</p>\n",
       "</div>"
      ],
      "text/plain": [
       "             Event.Id Investigation.Type  Event.Date          Location  \\\n",
       "5      20170710X52551           Accident  1979-09-17        BOSTON, MA   \n",
       "7      20020909X01562           Accident  1982-01-01       PULLMAN, WA   \n",
       "8      20020909X01561           Accident  1982-01-01  EAST HANOVER, NJ   \n",
       "12     20020917X02148           Accident  1982-01-02         HOMER, LA   \n",
       "13     20020917X02134           Accident  1982-01-02        HEARNE, TX   \n",
       "...               ...                ...         ...               ...   \n",
       "88869  20221213106455           Accident  2022-12-13     Lewistown, MT   \n",
       "88873  20221215106463           Accident  2022-12-14      San Juan, PR   \n",
       "88876  20221219106475           Accident  2022-12-15       Wichita, KS   \n",
       "88877  20221219106470           Accident  2022-12-16   Brooksville, FL   \n",
       "88886  20221227106497           Accident  2022-12-26        Payson, AZ   \n",
       "\n",
       "             Country Injury.Severity Aircraft.damage Aircraft.Category  \\\n",
       "5      United States       Non-Fatal     Substantial          Airplane   \n",
       "7      United States       Non-Fatal     Substantial          Airplane   \n",
       "8      United States       Non-Fatal     Substantial          Airplane   \n",
       "12     United States       Non-Fatal       Destroyed          Airplane   \n",
       "13     United States        Fatal(1)       Destroyed          Airplane   \n",
       "...              ...             ...             ...               ...   \n",
       "88869  United States       Non-Fatal     Substantial          Airplane   \n",
       "88873  United States       Non-Fatal     Substantial          Airplane   \n",
       "88876  United States       Non-Fatal     Substantial          Airplane   \n",
       "88877  United States           Minor     Substantial          Airplane   \n",
       "88886  United States       Non-Fatal     Substantial          Airplane   \n",
       "\n",
       "                             Make    Model  Number.of.Engines  \\\n",
       "5               Mcdonnell Douglas      DC9                2.0   \n",
       "7                          Cessna      140                1.0   \n",
       "8                          Cessna     401B                2.0   \n",
       "12                       Bellanca   17-30A                1.0   \n",
       "13                         Cessna    R172K                1.0   \n",
       "...                           ...      ...                ...   \n",
       "88869                       PIPER     PA42                2.0   \n",
       "88873          CIRRUS DESIGN CORP     SR22                1.0   \n",
       "88876                  SWEARINGEN  SA226TC                2.0   \n",
       "88877                      CESSNA    R172K                1.0   \n",
       "88886  AMERICAN CHAMPION AIRCRAFT    8GCBC                1.0   \n",
       "\n",
       "                         Air.carrier  Total.Fatal.Injuries  \\\n",
       "5                         Air Canada                   NaN   \n",
       "7                                NaN                   0.0   \n",
       "8                                NaN                   0.0   \n",
       "12                               NaN                   0.0   \n",
       "13                               NaN                   1.0   \n",
       "...                              ...                   ...   \n",
       "88869                            NaN                   0.0   \n",
       "88873  SKY WEST AVIATION INC TRUSTEE                   0.0   \n",
       "88876                            NaN                   0.0   \n",
       "88877               GERBER RICHARD E                   0.0   \n",
       "88886                            NaN                   0.0   \n",
       "\n",
       "       Total.Serious.Injuries  Total.Minor.Injuries  Total.Uninjured  \\\n",
       "5                         NaN                   1.0             44.0   \n",
       "7                         0.0                   0.0              2.0   \n",
       "8                         0.0                   0.0              2.0   \n",
       "12                        0.0                   1.0              0.0   \n",
       "13                        0.0                   0.0              0.0   \n",
       "...                       ...                   ...              ...   \n",
       "88869                     0.0                   0.0              1.0   \n",
       "88873                     0.0                   0.0              1.0   \n",
       "88876                     0.0                   0.0              1.0   \n",
       "88877                     1.0                   0.0              0.0   \n",
       "88886                     0.0                   0.0              1.0   \n",
       "\n",
       "      Weather.Condition   Report.Status  \n",
       "5                   VMC  Probable Cause  \n",
       "7                   VMC  Probable Cause  \n",
       "8                   IMC  Probable Cause  \n",
       "12                  IMC  Probable Cause  \n",
       "13                  IMC  Probable Cause  \n",
       "...                 ...             ...  \n",
       "88869               NaN             NaN  \n",
       "88873               VMC             NaN  \n",
       "88876               NaN             NaN  \n",
       "88877               VMC             NaN  \n",
       "88886               VMC             NaN  \n",
       "\n",
       "[24229 rows x 18 columns]"
      ]
     },
     "execution_count": 48,
     "metadata": {},
     "output_type": "execute_result"
    }
   ],
   "source": [
    "aviation_data"
   ]
  },
  {
   "cell_type": "code",
   "execution_count": 49,
   "id": "cdd712f5",
   "metadata": {},
   "outputs": [],
   "source": [
    "topten_df.to_csv('topten_df.csv', sep=',')"
   ]
  },
  {
   "cell_type": "code",
   "execution_count": 50,
   "id": "ffe03fb1",
   "metadata": {},
   "outputs": [
    {
     "name": "stdout",
     "output_type": "stream",
     "text": [
      "<class 'pandas.core.frame.DataFrame'>\n",
      "Index: 9607 entries, 63915 to 88661\n",
      "Data columns (total 18 columns):\n",
      " #   Column                  Non-Null Count  Dtype  \n",
      "---  ------                  --------------  -----  \n",
      " 0   Event.Id                9607 non-null   object \n",
      " 1   Investigation.Type      9607 non-null   object \n",
      " 2   Event.Date              9607 non-null   object \n",
      " 3   Location                9607 non-null   object \n",
      " 4   Country                 9607 non-null   object \n",
      " 5   Injury.Severity         9607 non-null   object \n",
      " 6   Aircraft.damage         9607 non-null   object \n",
      " 7   Aircraft.Category       9607 non-null   object \n",
      " 8   Make                    9607 non-null   object \n",
      " 9   Model                   9607 non-null   object \n",
      " 10  Number.of.Engines       9607 non-null   float64\n",
      " 11  Air.carrier             5400 non-null   object \n",
      " 12  Total.Fatal.Injuries    9607 non-null   float64\n",
      " 13  Total.Serious.Injuries  9607 non-null   float64\n",
      " 14  Total.Minor.Injuries    9607 non-null   float64\n",
      " 15  Total.Uninjured         9607 non-null   float64\n",
      " 16  Weather.Condition       9607 non-null   object \n",
      " 17  Report.Status           9607 non-null   object \n",
      "dtypes: float64(5), object(13)\n",
      "memory usage: 1.4+ MB\n"
     ]
    }
   ],
   "source": [
    "# clean dataframe is called topten_df\n",
    "topten_df.info()"
   ]
  },
  {
   "cell_type": "markdown",
   "id": "874176c4",
   "metadata": {},
   "source": [
    "### Data Analysis\n",
    "\n",
    "This analysis focuses on aviation accidents within the United States and international waters. The goal is to provide your company’s stakeholders with valuable insights, ultimately leading to recommendations about which aircraft models would be the most **profitable** while carrying the **least potential risk** for investment."
   ]
  },
  {
   "cell_type": "code",
   "execution_count": 51,
   "id": "7e74b31f",
   "metadata": {},
   "outputs": [
    {
     "name": "stdout",
     "output_type": "stream",
     "text": [
      "<class 'pandas.core.frame.DataFrame'>\n",
      "RangeIndex: 9607 entries, 0 to 9606\n",
      "Data columns (total 19 columns):\n",
      " #   Column                  Non-Null Count  Dtype  \n",
      "---  ------                  --------------  -----  \n",
      " 0   Unnamed: 0              9607 non-null   int64  \n",
      " 1   Event.Id                9607 non-null   object \n",
      " 2   Investigation.Type      9607 non-null   object \n",
      " 3   Event.Date              9607 non-null   int64  \n",
      " 4   Location                9607 non-null   object \n",
      " 5   Country                 9607 non-null   object \n",
      " 6   Injury.Severity         9607 non-null   object \n",
      " 7   Aircraft.damage         9607 non-null   object \n",
      " 8   Aircraft.Category       9607 non-null   object \n",
      " 9   Make                    9607 non-null   object \n",
      " 10  Model                   9607 non-null   object \n",
      " 11  Number.of.Engines       9607 non-null   float64\n",
      " 12  Air.carrier             5400 non-null   object \n",
      " 13  Total.Fatal.Injuries    9607 non-null   float64\n",
      " 14  Total.Serious.Injuries  9607 non-null   float64\n",
      " 15  Total.Minor.Injuries    9607 non-null   float64\n",
      " 16  Total.Uninjured         9607 non-null   float64\n",
      " 17  Weather.Condition       9607 non-null   object \n",
      " 18  Report.Status           9607 non-null   object \n",
      "dtypes: float64(5), int64(2), object(12)\n",
      "memory usage: 1.4+ MB\n"
     ]
    }
   ],
   "source": [
    "data = pd.read_csv(r'topten_df.csv')\n",
    "data.info()"
   ]
  },
  {
   "cell_type": "code",
   "execution_count": 52,
   "id": "6ac0a367",
   "metadata": {},
   "outputs": [
    {
     "data": {
      "text/html": [
       "<div>\n",
       "<style scoped>\n",
       "    .dataframe tbody tr th:only-of-type {\n",
       "        vertical-align: middle;\n",
       "    }\n",
       "\n",
       "    .dataframe tbody tr th {\n",
       "        vertical-align: top;\n",
       "    }\n",
       "\n",
       "    .dataframe thead th {\n",
       "        text-align: right;\n",
       "    }\n",
       "</style>\n",
       "<table border=\"1\" class=\"dataframe\">\n",
       "  <thead>\n",
       "    <tr style=\"text-align: right;\">\n",
       "      <th></th>\n",
       "      <th>Unnamed: 0</th>\n",
       "      <th>Event.Date</th>\n",
       "      <th>Number.of.Engines</th>\n",
       "      <th>Total.Fatal.Injuries</th>\n",
       "      <th>Total.Serious.Injuries</th>\n",
       "      <th>Total.Minor.Injuries</th>\n",
       "      <th>Total.Uninjured</th>\n",
       "    </tr>\n",
       "  </thead>\n",
       "  <tbody>\n",
       "    <tr>\n",
       "      <th>count</th>\n",
       "      <td>9607.000000</td>\n",
       "      <td>9607.000000</td>\n",
       "      <td>9607.000000</td>\n",
       "      <td>9607.000000</td>\n",
       "      <td>9607.000000</td>\n",
       "      <td>9607.000000</td>\n",
       "      <td>9607.000000</td>\n",
       "    </tr>\n",
       "    <tr>\n",
       "      <th>mean</th>\n",
       "      <td>74736.649110</td>\n",
       "      <td>2013.729989</td>\n",
       "      <td>1.129652</td>\n",
       "      <td>0.269907</td>\n",
       "      <td>0.300198</td>\n",
       "      <td>0.143333</td>\n",
       "      <td>4.054231</td>\n",
       "    </tr>\n",
       "    <tr>\n",
       "      <th>std</th>\n",
       "      <td>6510.109544</td>\n",
       "      <td>3.905393</td>\n",
       "      <td>0.345776</td>\n",
       "      <td>0.784846</td>\n",
       "      <td>2.270722</td>\n",
       "      <td>0.696174</td>\n",
       "      <td>22.769401</td>\n",
       "    </tr>\n",
       "    <tr>\n",
       "      <th>min</th>\n",
       "      <td>63915.000000</td>\n",
       "      <td>2008.000000</td>\n",
       "      <td>1.000000</td>\n",
       "      <td>0.000000</td>\n",
       "      <td>0.000000</td>\n",
       "      <td>0.000000</td>\n",
       "      <td>0.000000</td>\n",
       "    </tr>\n",
       "    <tr>\n",
       "      <th>25%</th>\n",
       "      <td>69149.000000</td>\n",
       "      <td>2010.000000</td>\n",
       "      <td>1.000000</td>\n",
       "      <td>0.000000</td>\n",
       "      <td>0.000000</td>\n",
       "      <td>0.000000</td>\n",
       "      <td>0.000000</td>\n",
       "    </tr>\n",
       "    <tr>\n",
       "      <th>50%</th>\n",
       "      <td>74495.000000</td>\n",
       "      <td>2013.000000</td>\n",
       "      <td>1.000000</td>\n",
       "      <td>0.000000</td>\n",
       "      <td>0.000000</td>\n",
       "      <td>0.000000</td>\n",
       "      <td>1.000000</td>\n",
       "    </tr>\n",
       "    <tr>\n",
       "      <th>75%</th>\n",
       "      <td>80029.500000</td>\n",
       "      <td>2017.000000</td>\n",
       "      <td>1.000000</td>\n",
       "      <td>0.000000</td>\n",
       "      <td>0.000000</td>\n",
       "      <td>0.000000</td>\n",
       "      <td>2.000000</td>\n",
       "    </tr>\n",
       "    <tr>\n",
       "      <th>max</th>\n",
       "      <td>88661.000000</td>\n",
       "      <td>2022.000000</td>\n",
       "      <td>4.000000</td>\n",
       "      <td>11.000000</td>\n",
       "      <td>137.000000</td>\n",
       "      <td>50.000000</td>\n",
       "      <td>394.000000</td>\n",
       "    </tr>\n",
       "  </tbody>\n",
       "</table>\n",
       "</div>"
      ],
      "text/plain": [
       "         Unnamed: 0   Event.Date  Number.of.Engines  Total.Fatal.Injuries  \\\n",
       "count   9607.000000  9607.000000        9607.000000           9607.000000   \n",
       "mean   74736.649110  2013.729989           1.129652              0.269907   \n",
       "std     6510.109544     3.905393           0.345776              0.784846   \n",
       "min    63915.000000  2008.000000           1.000000              0.000000   \n",
       "25%    69149.000000  2010.000000           1.000000              0.000000   \n",
       "50%    74495.000000  2013.000000           1.000000              0.000000   \n",
       "75%    80029.500000  2017.000000           1.000000              0.000000   \n",
       "max    88661.000000  2022.000000           4.000000             11.000000   \n",
       "\n",
       "       Total.Serious.Injuries  Total.Minor.Injuries  Total.Uninjured  \n",
       "count             9607.000000           9607.000000      9607.000000  \n",
       "mean                 0.300198              0.143333         4.054231  \n",
       "std                  2.270722              0.696174        22.769401  \n",
       "min                  0.000000              0.000000         0.000000  \n",
       "25%                  0.000000              0.000000         0.000000  \n",
       "50%                  0.000000              0.000000         1.000000  \n",
       "75%                  0.000000              0.000000         2.000000  \n",
       "max                137.000000             50.000000       394.000000  "
      ]
     },
     "execution_count": 52,
     "metadata": {},
     "output_type": "execute_result"
    }
   ],
   "source": [
    "# Summarize data frame statistics\n",
    "data.describe()"
   ]
  },
  {
   "cell_type": "code",
   "execution_count": 53,
   "id": "68ffc6cc",
   "metadata": {},
   "outputs": [
    {
     "data": {
      "image/png": "[encoded data removed]",
      "text/plain": [
       "<Figure size 800x600 with 1 Axes>"
      ]
     },
     "metadata": {},
     "output_type": "display_data"
    }
   ],
   "source": [
    "# plot top ten to show\n",
    "# Setting up the plot\n",
    "fig, ax = plt.subplots(figsize=(8,6))\n",
    "top_ten_makes = data.Make.value_counts()\n",
    "top_ten_makes.plot.bar()\n",
    "\n",
    "ax.set_title('Top Ten Airplane Makes')\n",
    "ax.set_xlabel('Top Ten Makes')\n",
    "ax.set_ylabel('Frequency')\n",
    "\n",
    "plt.savefig('Top Ten Airplane Makes')\n",
    "# Displaying the plot\n",
    "plt.show()"
   ]
  },
  {
   "cell_type": "markdown",
   "id": "927ea646",
   "metadata": {},
   "source": [
    "### Accident vs. Incident\n",
    "\n",
    "When an event appears in this dataset, it means something went wrong, but there are two types of events:\n",
    "- **Accident**: Defined as an event where an injury occurs.\n",
    "- **Incident**: An occurrence where something went wrong but did not result in an accident, often due to the effectiveness of safety measures in place.\n",
    "\n",
    "In the analysis below, we compare accidents and incidents to draw conclusions about which airplane makes have **sufficient safety measures** to prevent incidents from escalating into accidents."
   ]
  },
  {
   "cell_type": "code",
   "execution_count": 54,
   "id": "fea43496",
   "metadata": {},
   "outputs": [],
   "source": [
    "# Create pivot table to illustrate count of accident and incident per make\n",
    "grouped = data.pivot_table(index='Make', columns='Investigation.Type', aggfunc='size', fill_value=0)"
   ]
  },
  {
   "cell_type": "code",
   "execution_count": 55,
   "id": "4eb5c549",
   "metadata": {},
   "outputs": [],
   "source": [
    "# Add a new column for the ratio of accidents to total incidents and accidents\n",
    "grouped['Ratio'] = grouped['Accident'] / (grouped['Accident'] + grouped['Incident'])"
   ]
  },
  {
   "cell_type": "code",
   "execution_count": 56,
   "id": "e5fd7696",
   "metadata": {},
   "outputs": [
    {
     "data": {
      "text/html": [
       "<div>\n",
       "<style scoped>\n",
       "    .dataframe tbody tr th:only-of-type {\n",
       "        vertical-align: middle;\n",
       "    }\n",
       "\n",
       "    .dataframe tbody tr th {\n",
       "        vertical-align: top;\n",
       "    }\n",
       "\n",
       "    .dataframe thead th {\n",
       "        text-align: right;\n",
       "    }\n",
       "</style>\n",
       "<table border=\"1\" class=\"dataframe\">\n",
       "  <thead>\n",
       "    <tr style=\"text-align: right;\">\n",
       "      <th>Investigation.Type</th>\n",
       "      <th>Accident</th>\n",
       "      <th>Incident</th>\n",
       "      <th>Ratio</th>\n",
       "    </tr>\n",
       "    <tr>\n",
       "      <th>Make</th>\n",
       "      <th></th>\n",
       "      <th></th>\n",
       "      <th></th>\n",
       "    </tr>\n",
       "  </thead>\n",
       "  <tbody>\n",
       "    <tr>\n",
       "      <th>Boeing</th>\n",
       "      <td>212</td>\n",
       "      <td>79</td>\n",
       "      <td>0.728522</td>\n",
       "    </tr>\n",
       "    <tr>\n",
       "      <th>Cirrus Design Corp</th>\n",
       "      <td>159</td>\n",
       "      <td>10</td>\n",
       "      <td>0.940828</td>\n",
       "    </tr>\n",
       "    <tr>\n",
       "      <th>Beech</th>\n",
       "      <td>918</td>\n",
       "      <td>17</td>\n",
       "      <td>0.981818</td>\n",
       "    </tr>\n",
       "    <tr>\n",
       "      <th>Mooney</th>\n",
       "      <td>234</td>\n",
       "      <td>4</td>\n",
       "      <td>0.983193</td>\n",
       "    </tr>\n",
       "    <tr>\n",
       "      <th>Cessna</th>\n",
       "      <td>4580</td>\n",
       "      <td>58</td>\n",
       "      <td>0.987495</td>\n",
       "    </tr>\n",
       "    <tr>\n",
       "      <th>Piper</th>\n",
       "      <td>2670</td>\n",
       "      <td>21</td>\n",
       "      <td>0.992196</td>\n",
       "    </tr>\n",
       "    <tr>\n",
       "      <th>Bellanca</th>\n",
       "      <td>158</td>\n",
       "      <td>1</td>\n",
       "      <td>0.993711</td>\n",
       "    </tr>\n",
       "    <tr>\n",
       "      <th>Air Tractor Inc</th>\n",
       "      <td>191</td>\n",
       "      <td>1</td>\n",
       "      <td>0.994792</td>\n",
       "    </tr>\n",
       "    <tr>\n",
       "      <th>Aeronca</th>\n",
       "      <td>144</td>\n",
       "      <td>0</td>\n",
       "      <td>1.000000</td>\n",
       "    </tr>\n",
       "    <tr>\n",
       "      <th>Maule</th>\n",
       "      <td>150</td>\n",
       "      <td>0</td>\n",
       "      <td>1.000000</td>\n",
       "    </tr>\n",
       "  </tbody>\n",
       "</table>\n",
       "</div>"
      ],
      "text/plain": [
       "Investigation.Type  Accident  Incident     Ratio\n",
       "Make                                            \n",
       "Boeing                   212        79  0.728522\n",
       "Cirrus Design Corp       159        10  0.940828\n",
       "Beech                    918        17  0.981818\n",
       "Mooney                   234         4  0.983193\n",
       "Cessna                  4580        58  0.987495\n",
       "Piper                   2670        21  0.992196\n",
       "Bellanca                 158         1  0.993711\n",
       "Air Tractor Inc          191         1  0.994792\n",
       "Aeronca                  144         0  1.000000\n",
       "Maule                    150         0  1.000000"
      ]
     },
     "execution_count": 56,
     "metadata": {},
     "output_type": "execute_result"
    }
   ],
   "source": [
    "grouped.sort_values('Ratio')"
   ]
  },
  {
   "cell_type": "markdown",
   "id": "e2d49d88",
   "metadata": {},
   "source": [
    "### Table Overview\n",
    "\n",
    "The table breaks down data by airplane make and includes the following metrics:\n",
    "- **Accidents**: The total number of accidents.\n",
    "- **Incidents**: The total number of incidents (including non-accidents).\n",
    "- **Accident-to-Event Ratio**: The ratio of accidents to total events (accidents + incidents). \n",
    "   - A ratio closer to **1** indicates a higher frequency of accidents.\n",
    "   - A ratio closer to **0** suggests better safety measures, as fewer incidents escalate into accidents.\n",
    "\n",
    "This helps identify which airplane makes have effective safety measures to prevent incidents from turning into accidents.\n",
    "\n",
    "---\n",
    "\n",
    "### Key Findings\n",
    "\n",
    "- **Boeing** has the **lowest accident-to-event ratio** at **0.7285**, indicating it has the best safety measures to prevent accidents.\n",
    "- **Beech** and **Mooney** rank second and third, following Boeing closely.\n",
    "- **Aeronca** and **Maule** tie for the highest accident-to-event ratio, indicating a higher risk of incidents escalating into accidents.\n",
    "\n",
    "According to the table, **Boeing**, **Beech**, and **Mooney** stand out as having the **most efficient safety measures** in place.\n"
   ]
  },
  {
   "cell_type": "markdown",
   "id": "111c7241",
   "metadata": {},
   "source": [
    "### Pilots Negligence or Engine Failure ###\n",
    "We want to further explore the sources behind all the accidents and incidents. After, getting a closer look into the Report Status column. there were some reoccurring words such as 'pilot', 'failure', and 'engine'. We created a new column in the dataset that go through each row in Report Status looking for specific key words ('pilot' and 'engine') and categorize them into two values: Human and Mechanical."
   ]
  },
  {
   "cell_type": "code",
   "execution_count": 57,
   "id": "436331c3",
   "metadata": {},
   "outputs": [],
   "source": [
    "#creating a new column for human/mechanical error\n",
    "data['source_cause'] = data['Report.Status'].str.contains((\"pilot\" or \n",
    "                                \"pilot's\" or \"technician's\" or \"company maintenance personnel\" or \"student\" or \n",
    "                                \"instructor\" or \"failure\")).astype('int').replace({1: 'Human', 0: 'Mechanical'})"
   ]
  },
  {
   "cell_type": "markdown",
   "id": "d2013970",
   "metadata": {},
   "source": [
    "### Focus on Top 10 Airplane Makes\n",
    "\n",
    "In this analysis, we concentrated on the **top ten airplane makes** and **normalized the errors** (both human and mechanical) associated with each make. This approach allowed us to compare the error rates on a level playing field, giving us clearer insights into which makes are more prone to specific types of errors."
   ]
  },
  {
   "cell_type": "code",
   "execution_count": 58,
   "id": "1cdd2e3d",
   "metadata": {},
   "outputs": [
    {
     "data": {
      "text/plain": [
       "9903"
      ]
     },
     "execution_count": 58,
     "metadata": {},
     "output_type": "execute_result"
    }
   ],
   "source": [
    "top_ten_make = ['Cessna', 'Piper', 'Beech', 'Air Tractor Inc', 'Boeing', 'Mooney', 'Cirrus Design Corp', \n",
    "                'Bellanca', 'Maule', 'Aeronca']\n",
    "human_error = [3656, 2068, 676, 234, 73, 213, 188, 125, 128, 126]\n",
    "mechanical_error = [1006, 639, 272, 70, 222, 65, 67, 34, 22, 19]\n",
    "x = sum(human_error)\n",
    "y = sum(mechanical_error)\n",
    "total = x + y\n",
    "total"
   ]
  },
  {
   "cell_type": "code",
   "execution_count": 59,
   "id": "cf439a1a",
   "metadata": {},
   "outputs": [
    {
     "name": "stdout",
     "output_type": "stream",
     "text": [
      "[0.3691810562455822, 0.2088256084014945, 0.06826214278501465, 0.023629203271735837, 0.007371503584772291, 0.02150863374734929, 0.01898414621831768, 0.012622437645158033, 0.012925376148641825, 0.012723417146319298]\n"
     ]
    }
   ],
   "source": [
    "normalized_human_error = []\n",
    "\n",
    "for error in human_error:\n",
    "    normalize = int(error)/total\n",
    "    normalized_human_error.append(normalize)\n",
    "\n",
    "print(normalized_human_error)"
   ]
  },
  {
   "cell_type": "code",
   "execution_count": 60,
   "id": "a1bcf505",
   "metadata": {},
   "outputs": [
    {
     "name": "stdout",
     "output_type": "stream",
     "text": [
      "[0.10158537816823185, 0.06452590124204786, 0.02746642431586388, 0.007068565081288498, 0.022417449257800665, 0.006563667575482177, 0.006765626577804705, 0.003433303039482985, 0.0022215490255478136, 0.001918610522064021]\n"
     ]
    }
   ],
   "source": [
    "normalized_mechanical_error = []\n",
    "\n",
    "for error in mechanical_error:\n",
    "    normalize = int(error)/total\n",
    "    normalized_mechanical_error.append(normalize)\n",
    "\n",
    "print(normalized_mechanical_error)"
   ]
  },
  {
   "cell_type": "code",
   "execution_count": 61,
   "id": "43d01cac",
   "metadata": {},
   "outputs": [],
   "source": [
    "dict = {'Makes': top_ten_make, 'Normalized Human Error': normalized_human_error, 'Normalized Mechanical Error': normalized_mechanical_error}\n",
    "normalized_df = pd.DataFrame(dict)"
   ]
  },
  {
   "cell_type": "code",
   "execution_count": 62,
   "id": "57cf9c15",
   "metadata": {},
   "outputs": [
    {
     "data": {
      "image/png": "[encoded data removed]",
      "text/plain": [
       "<Figure size 1500x1200 with 1 Axes>"
      ]
     },
     "metadata": {},
     "output_type": "display_data"
    }
   ],
   "source": [
    "# Importing matplotlib for data visualization\n",
    "import matplotlib.pyplot as plt\n",
    "import numpy as np\n",
    "\n",
    "# Reshape the data using pd.melt()\n",
    "melted_df = pd.melt(normalized_df, id_vars='Makes', value_vars=['Normalized Human Error', 'Normalized Mechanical Error'])\n",
    "\n",
    "# Create the side-by-side bar plot\n",
    "# Setting up the plot\n",
    "fig, ax = plt.subplots(figsize=(15, 12))\n",
    "\n",
    "# Get unique Makes and the number of categories\n",
    "makes = melted_df['Makes'].unique()\n",
    "n_makes = len(makes)\n",
    "bar_width = 0.35  # Width of the bars\n",
    "\n",
    "# Create an array for the x positions\n",
    "index = np.arange(n_makes)\n",
    "\n",
    "# Separate the values for each error type\n",
    "human_error = melted_df[melted_df['variable'] == 'Normalized Human Error']['value'].values\n",
    "mechanical_error = melted_df[melted_df['variable'] == 'Normalized Mechanical Error']['value'].values\n",
    "\n",
    "# Create bar plots\n",
    "bars1 = ax.bar(index, human_error, bar_width, label='Normalized Human Error')\n",
    "bars2 = ax.bar(index + bar_width, mechanical_error, bar_width, label='Normalized Mechanical Error')\n",
    "\n",
    "# Customize the legend and axes labels\n",
    "ax.set_title('Normalized Distribution of Errors for Overall Makes')\n",
    "ax.set_xticks(index + bar_width / 2)  # Set x-ticks to the center of the grouped bars\n",
    "ax.set_xticklabels(makes)\n",
    "ax.set_xlabel('Makes')\n",
    "ax.set_ylabel('Error (%)')\n",
    "ax.legend(title='Error Type')\n",
    "\n",
    "# Save the figure\n",
    "plt.savefig('matplotlib_normalized_errors3.png')\n",
    "# Displaying the plot\n",
    "plt.show()\n"
   ]
  },
  {
   "cell_type": "markdown",
   "id": "09b2966a",
   "metadata": {},
   "source": [
    "### Human and Mechanical Error Analysis\n",
    "\n",
    "From the graph, we can observe the following:\n",
    "\n",
    "#### 1. **Cessna's High Error Rates**\n",
    "   - **Cessna** has the highest rates of both **human error** and **mechanical error**, which aligns with its earlier ranking as having the highest number of accidents.\n",
    "   - This suggests that **Cessna may lack sufficient safety measures** in place, making it a riskier investment.\n",
    "\n",
    "#### 2. **Boeing's Mechanical Error Trend**\n",
    "   - Interestingly, **Boeing** stands out as the only airplane make with more **mechanical errors** than **human errors**.\n",
    "   - To dive deeper into this, we will analyze which specific **Boeing models** are responsible for the majority of these mechanical errors."
   ]
  },
  {
   "cell_type": "code",
   "execution_count": 63,
   "id": "f43a1f81",
   "metadata": {},
   "outputs": [
    {
     "data": {
      "text/html": [
       "<div>\n",
       "<style scoped>\n",
       "    .dataframe tbody tr th:only-of-type {\n",
       "        vertical-align: middle;\n",
       "    }\n",
       "\n",
       "    .dataframe tbody tr th {\n",
       "        vertical-align: top;\n",
       "    }\n",
       "\n",
       "    .dataframe thead th {\n",
       "        text-align: right;\n",
       "    }\n",
       "</style>\n",
       "<table border=\"1\" class=\"dataframe\">\n",
       "  <thead>\n",
       "    <tr style=\"text-align: right;\">\n",
       "      <th></th>\n",
       "      <th></th>\n",
       "      <th></th>\n",
       "      <th>Count of Errors</th>\n",
       "    </tr>\n",
       "    <tr>\n",
       "      <th>Make</th>\n",
       "      <th>Model</th>\n",
       "      <th>source_cause</th>\n",
       "      <th></th>\n",
       "    </tr>\n",
       "  </thead>\n",
       "  <tbody>\n",
       "    <tr>\n",
       "      <th rowspan=\"5\" valign=\"top\">Cessna</th>\n",
       "      <th>U206G</th>\n",
       "      <th>Human</th>\n",
       "      <td>24</td>\n",
       "    </tr>\n",
       "    <tr>\n",
       "      <th>R182</th>\n",
       "      <th>Human</th>\n",
       "      <td>24</td>\n",
       "    </tr>\n",
       "    <tr>\n",
       "      <th>T182T</th>\n",
       "      <th>Human</th>\n",
       "      <td>23</td>\n",
       "    </tr>\n",
       "    <tr>\n",
       "      <th>T210</th>\n",
       "      <th>Human</th>\n",
       "      <td>22</td>\n",
       "    </tr>\n",
       "    <tr>\n",
       "      <th>T210L</th>\n",
       "      <th>Human</th>\n",
       "      <td>21</td>\n",
       "    </tr>\n",
       "  </tbody>\n",
       "</table>\n",
       "</div>"
      ],
      "text/plain": [
       "                           Count of Errors\n",
       "Make   Model source_cause                 \n",
       "Cessna U206G Human                      24\n",
       "       R182  Human                      24\n",
       "       T182T Human                      23\n",
       "       T210  Human                      22\n",
       "       T210L Human                      21"
      ]
     },
     "execution_count": 63,
     "metadata": {},
     "output_type": "execute_result"
    }
   ],
   "source": [
    "boeing_df = data.groupby(['Make', 'Model', 'source_cause']).agg({'source_cause':\n",
    "                                                                          'count'}).rename(columns = {'source_cause': 'Count of Errors'})\n",
    "boeing_df = boeing_df.iloc[866:951]\n",
    "boeing_df = boeing_df.sort_values('Count of Errors', ascending = False) #sorting the values from highest to lowest\n",
    "boeing_df.head()"
   ]
  },
  {
   "cell_type": "markdown",
   "id": "ccf14737",
   "metadata": {},
   "source": [
    "Overall, the majority of Boeing models have fewer than 10 instances of mechanical or human error, with Model 737 leading in mechanical errors with a total of 24 occurrences."
   ]
  },
  {
   "cell_type": "code",
   "execution_count": 64,
   "id": "0e5b3261",
   "metadata": {},
   "outputs": [],
   "source": [
    "topten_updated_df = data"
   ]
  },
  {
   "cell_type": "code",
   "execution_count": 65,
   "id": "23cc8f67",
   "metadata": {},
   "outputs": [
    {
     "name": "stdout",
     "output_type": "stream",
     "text": [
      "<class 'pandas.core.frame.DataFrame'>\n",
      "RangeIndex: 9607 entries, 0 to 9606\n",
      "Data columns (total 20 columns):\n",
      " #   Column                  Non-Null Count  Dtype  \n",
      "---  ------                  --------------  -----  \n",
      " 0   Unnamed: 0              9607 non-null   int64  \n",
      " 1   Event.Id                9607 non-null   object \n",
      " 2   Investigation.Type      9607 non-null   object \n",
      " 3   Event.Date              9607 non-null   int64  \n",
      " 4   Location                9607 non-null   object \n",
      " 5   Country                 9607 non-null   object \n",
      " 6   Injury.Severity         9607 non-null   object \n",
      " 7   Aircraft.damage         9607 non-null   object \n",
      " 8   Aircraft.Category       9607 non-null   object \n",
      " 9   Make                    9607 non-null   object \n",
      " 10  Model                   9607 non-null   object \n",
      " 11  Number.of.Engines       9607 non-null   float64\n",
      " 12  Air.carrier             5400 non-null   object \n",
      " 13  Total.Fatal.Injuries    9607 non-null   float64\n",
      " 14  Total.Serious.Injuries  9607 non-null   float64\n",
      " 15  Total.Minor.Injuries    9607 non-null   float64\n",
      " 16  Total.Uninjured         9607 non-null   float64\n",
      " 17  Weather.Condition       9607 non-null   object \n",
      " 18  Report.Status           9607 non-null   object \n",
      " 19  source_cause            9607 non-null   object \n",
      "dtypes: float64(5), int64(2), object(13)\n",
      "memory usage: 1.5+ MB\n"
     ]
    }
   ],
   "source": [
    "topten_updated_df.info()"
   ]
  },
  {
   "cell_type": "code",
   "execution_count": 66,
   "id": "062a9f8d",
   "metadata": {},
   "outputs": [
    {
     "data": {
      "text/plain": [
       "Make\n",
       "Cessna                4638\n",
       "Piper                 2691\n",
       "Beech                  935\n",
       "Boeing                 291\n",
       "Mooney                 238\n",
       "Air Tractor Inc        192\n",
       "Cirrus Design Corp     169\n",
       "Bellanca               159\n",
       "Maule                  150\n",
       "Aeronca                144\n",
       "Name: count, dtype: int64"
      ]
     },
     "execution_count": 66,
     "metadata": {},
     "output_type": "execute_result"
    }
   ],
   "source": [
    "top_ten_makes = topten_updated_df.Make.value_counts()\n",
    "top_ten_makes"
   ]
  },
  {
   "cell_type": "code",
   "execution_count": 67,
   "id": "f019bd15",
   "metadata": {},
   "outputs": [],
   "source": [
    "topten_updated_df.loc[:,'Total.Affected.Pass'] = topten_updated_df[['Total.Fatal.Injuries', 'Total.Serious.Injuries', 'Total.Minor.Injuries']].sum(axis=1)"
   ]
  },
  {
   "cell_type": "code",
   "execution_count": 68,
   "id": "6d98762d",
   "metadata": {},
   "outputs": [
    {
     "data": {
      "text/plain": [
       "Total.Affected.Pass\n",
       "0.0      6082\n",
       "1.0      1817\n",
       "2.0      1106\n",
       "3.0       292\n",
       "4.0       204\n",
       "5.0        54\n",
       "6.0        22\n",
       "7.0        10\n",
       "10.0        3\n",
       "8.0         3\n",
       "13.0        2\n",
       "9.0         2\n",
       "12.0        2\n",
       "190.0       1\n",
       "26.0        1\n",
       "47.0        1\n",
       "88.0        1\n",
       "22.0        1\n",
       "21.0        1\n",
       "134.0       1\n",
       "11.0        1\n",
       "Name: count, dtype: int64"
      ]
     },
     "execution_count": 68,
     "metadata": {},
     "output_type": "execute_result"
    }
   ],
   "source": [
    "topten_updated_df['Total.Affected.Pass'].value_counts()"
   ]
  },
  {
   "cell_type": "code",
   "execution_count": 69,
   "id": "34dc7c7a",
   "metadata": {},
   "outputs": [],
   "source": [
    "topten_updated_df = topten_updated_df[topten_updated_df['Total.Affected.Pass'] != 0.0]"
   ]
  },
  {
   "cell_type": "code",
   "execution_count": 70,
   "id": "05995cfb",
   "metadata": {},
   "outputs": [
    {
     "data": {
      "text/plain": [
       "Total.Affected.Pass\n",
       "1.0      1817\n",
       "2.0      1106\n",
       "3.0       292\n",
       "4.0       204\n",
       "5.0        54\n",
       "6.0        22\n",
       "7.0        10\n",
       "10.0        3\n",
       "8.0         3\n",
       "13.0        2\n",
       "12.0        2\n",
       "9.0         2\n",
       "134.0       1\n",
       "21.0        1\n",
       "22.0        1\n",
       "26.0        1\n",
       "190.0       1\n",
       "47.0        1\n",
       "88.0        1\n",
       "11.0        1\n",
       "Name: count, dtype: int64"
      ]
     },
     "execution_count": 70,
     "metadata": {},
     "output_type": "execute_result"
    }
   ],
   "source": [
    "topten_updated_df['Total.Affected.Pass'].value_counts()"
   ]
  },
  {
   "cell_type": "code",
   "execution_count": 71,
   "id": "55df6dca",
   "metadata": {},
   "outputs": [
    {
     "data": {
      "text/plain": [
       "Text(0.5, 1.0, 'Make by Total Affected Passengers')"
      ]
     },
     "execution_count": 71,
     "metadata": {},
     "output_type": "execute_result"
    },
    {
     "data": {
      "image/png": "[encoded data removed]",
      "text/plain": [
       "<Figure size 640x480 with 1 Axes>"
      ]
     },
     "metadata": {},
     "output_type": "display_data"
    }
   ],
   "source": [
    "#comparing minor, serious, fatal passengers to Make of plane\n",
    "pass_affect = topten_updated_df.groupby('Make')['Total.Affected.Pass'].sum()\n",
    "\n",
    "# Setting up the plot\n",
    "fig, ax = plt.subplots()\n",
    "ax.bar(pass_affect.index, pass_affect.values)\n",
    "\n",
    "ax.tick_params(axis = 'x', rotation = 90)\n",
    "ax.set_ylabel('Passengers')\n",
    "ax.set_xlabel('Make')\n",
    "ax.set_title('Make by Total Affected Passengers')"
   ]
  },
  {
   "cell_type": "code",
   "execution_count": 72,
   "id": "2762216f",
   "metadata": {},
   "outputs": [
    {
     "name": "stderr",
     "output_type": "stream",
     "text": [
      "C:\\Users\\user\\AppData\\Local\\Temp\\ipykernel_9776\\1491105320.py:2: SettingWithCopyWarning: \n",
      "A value is trying to be set on a copy of a slice from a DataFrame.\n",
      "Try using .loc[row_indexer,col_indexer] = value instead\n",
      "\n",
      "See the caveats in the documentation: https://pandas.pydata.org/pandas-docs/stable/user_guide/indexing.html#returning-a-view-versus-a-copy\n",
      "  topten_updated_df['Fatalities'] = topten_updated_df['Total.Fatal.Injuries'] / topten_updated_df['Total.Affected.Pass']\n"
     ]
    }
   ],
   "source": [
    "#making a fatalities column for ratio of fatalities to all affected (minor, serious, fatal)\n",
    "topten_updated_df['Fatalities'] = topten_updated_df['Total.Fatal.Injuries'] / topten_updated_df['Total.Affected.Pass']"
   ]
  },
  {
   "cell_type": "code",
   "execution_count": 73,
   "id": "64c99024",
   "metadata": {},
   "outputs": [
    {
     "data": {
      "text/plain": [
       "Text(0.5, 1.0, 'Ratio of Make by Fatalities')"
      ]
     },
     "execution_count": 73,
     "metadata": {},
     "output_type": "execute_result"
    },
    {
     "data": {
      "image/png": "[encoded data removed]",
      "text/plain": [
       "<Figure size 640x480 with 1 Axes>"
      ]
     },
     "metadata": {},
     "output_type": "display_data"
    }
   ],
   "source": [
    "#graph comparing fatalities and Make of airplane\n",
    "fatal_affect = topten_updated_df.groupby('Make')['Fatalities'].sum()\n",
    "\n",
    "# Setting up the plot\n",
    "fig, ax = plt.subplots()\n",
    "ax.bar(fatal_affect.index, fatal_affect.values)\n",
    "\n",
    "ax.tick_params(axis = 'x', rotation = 90)\n",
    "ax.set_ylabel('Fatalities')\n",
    "ax.set_xlabel('Make')\n",
    "ax.set_title('Ratio of Make by Fatalities')"
   ]
  },
  {
   "cell_type": "code",
   "execution_count": 74,
   "id": "a26b6ad4",
   "metadata": {},
   "outputs": [
    {
     "name": "stderr",
     "output_type": "stream",
     "text": [
      "C:\\Users\\user\\AppData\\Local\\Temp\\ipykernel_9776\\734154767.py:2: SettingWithCopyWarning: \n",
      "A value is trying to be set on a copy of a slice from a DataFrame.\n",
      "Try using .loc[row_indexer,col_indexer] = value instead\n",
      "\n",
      "See the caveats in the documentation: https://pandas.pydata.org/pandas-docs/stable/user_guide/indexing.html#returning-a-view-versus-a-copy\n",
      "  topten_updated_df['Uninjured.Ratio'] = topten_updated_df['Total.Uninjured'] / (topten_updated_df['Total.Affected.Pass'] + topten_updated_df['Total.Uninjured'])\n"
     ]
    }
   ],
   "source": [
    "#making column for uninjured ratio to all (injured & uninjured)\n",
    "topten_updated_df['Uninjured.Ratio'] = topten_updated_df['Total.Uninjured'] / (topten_updated_df['Total.Affected.Pass'] + topten_updated_df['Total.Uninjured'])"
   ]
  },
  {
   "cell_type": "code",
   "execution_count": 75,
   "id": "b6dd4526",
   "metadata": {},
   "outputs": [
    {
     "data": {
      "text/plain": [
       "Text(0.5, 1.0, 'Ratio of Make by Uninjured')"
      ]
     },
     "execution_count": 75,
     "metadata": {},
     "output_type": "execute_result"
    },
    {
     "data": {
      "image/png": "[encoded data removed]",
      "text/plain": [
       "<Figure size 640x480 with 1 Axes>"
      ]
     },
     "metadata": {},
     "output_type": "display_data"
    }
   ],
   "source": [
    "#graph for ratio of uninjured compared to make of airplane\n",
    "uninjured_affect = topten_updated_df.groupby('Make')['Uninjured.Ratio'].sum()\n",
    "\n",
    "# Setting up the plot\n",
    "fig, ax = plt.subplots()\n",
    "ax.bar(uninjured_affect.index, uninjured_affect.values)\n",
    "\n",
    "ax.tick_params(axis = 'x', rotation = 90)\n",
    "ax.set_ylabel('Uninjured')\n",
    "ax.set_xlabel('Make')\n",
    "ax.set_title('Ratio of Make by Uninjured')"
   ]
  },
  {
   "cell_type": "markdown",
   "id": "ccbdb518",
   "metadata": {},
   "source": [
    "### Risk of Personal Injury\n",
    "\n",
    "In this analysis, we focused on the total number of passengers involved in adverse events from 2008 to 2022, considering minor injuries, serious injuries, and fatalities. Here are the key findings:\n",
    "\n",
    "#### 1. **Total Number of Injuries (Top 10 Airplane Makes)**\n",
    "   - **Cessna** had the highest number of injuries across all categories.\n",
    "   - **Maule** had the lowest number of injuries.\n",
    "\n",
    "#### 2. **Fatalities Analysis**\n",
    "   - We created a **fatality-to-injury ratio** (fatalities compared to the total number of injuries) to assess which airplane makes have the highest fatality risk.\n",
    "   - **Cirrus Design Corp.** had the highest fatality ratio, indicating a higher risk of fatalities in adverse events.\n",
    "   - **Boeing** had the lowest fatality ratio, making it the safest in terms of fatalities.\n",
    "\n",
    "#### 3. **Uninjured Passenger Ratio**\n",
    "   - To understand which airplanes have the highest safety ratings, we analyzed the ratio of uninjured passengers in adverse events.\n",
    "   - **Boeing** had the highest uninjured ratio, suggesting it is the safest airplane make overall.\n",
    "   - **Mooney** had the lowest ratio of uninjured passengers.\n",
    "\n",
    "### Recommendation\n",
    "Based on the findings:\n",
    "- **Avoid investing in Cessna aircraft**, due to the high injury rates.\n",
    "- **Consider further evaluation of Boeing and Maule airplanes**, which consistently showed lower injury and fatality rates, with Boeing having the highest uninjured passenger ratio.\n",
    "\n"
   ]
  },
  {
   "cell_type": "markdown",
   "id": "84808669",
   "metadata": {},
   "source": [
    "\n",
    "### Key Recommendations for Aircraft Investment\n",
    "\n",
    "#### 1. **Invest in Boeing Aircraft**\n",
    "   - **Low accident rates**: Boeing planes have the lowest ratio of accidents to total events.\n",
    "   - **Safety advantage**: Passengers on Boeing flights experience fewer injuries and fatalities compared to other brands.\n",
    "   - **Boeing Model Recommendation**: Any Boeing model **except the 737** is a safe choice.\n",
    "\n",
    "#### 2. **Key Considerations for Boeing Investments**\n",
    "   - **Mechanical Error Risk**: Boeing is an outlier, showing more accidents due to mechanical issues than human error.\n",
    "   - **Maintenance Focus**: To mitigate mechanical issues, the company should invest in a **high-quality maintenance team**.\n",
    "\n",
    "#### 3. **Focus on Commercial Aircraft over Private Planes**\n",
    "   - **Higher risk in private aircraft**: Most accidents occur with smaller, private aircraft, especially those with one-engine or reciprocating engines.\n",
    "   - **Examples**: Aircraft like the Cessna have higher rates of human error and inadequate safety measures, making them riskier investments."
   ]
  }
 ],
 "metadata": {
  "kernelspec": {
   "display_name": "base",
   "language": "python",
   "name": "python3"
  },
  "language_info": {
   "codemirror_mode": {
    "name": "ipython",
    "version": 3
   },
   "file_extension": ".py",
   "mimetype": "text/x-python",
   "name": "python",
   "nbconvert_exporter": "python",
   "pygments_lexer": "ipython3",
   "version": "3.12.4"
  }
 },
 "nbformat": 4,
 "nbformat_minor": 5
}
